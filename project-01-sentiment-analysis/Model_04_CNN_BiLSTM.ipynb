{
  "nbformat": 4,
  "nbformat_minor": 0,
  "metadata": {
    "colab": {
      "provenance": []
    },
    "kernelspec": {
      "name": "python3",
      "display_name": "Python 3"
    },
    "language_info": {
      "name": "python"
    }
  },
  "cells": [
    {
      "cell_type": "code",
      "source": [
        "import pandas as pd\n",
        "import numpy as np\n",
        "from sklearn.model_selection import train_test_split\n",
        "from tensorflow.keras.preprocessing.text import Tokenizer\n",
        "from tensorflow.keras.preprocessing.sequence import pad_sequences\n",
        "from tensorflow.keras.utils import to_categorical"
      ],
      "metadata": {
        "id": "mTQVkMvAQ7h5"
      },
      "execution_count": null,
      "outputs": []
    },
    {
      "cell_type": "code",
      "execution_count": null,
      "metadata": {
        "id": "HDd8LavXQqYW"
      },
      "outputs": [],
      "source": [
        "df = pd.read_csv('/content/drive/MyDrive/MKA UGM/AI/project1/tweet_preprocessed_2.csv')"
      ]
    },
    {
      "cell_type": "code",
      "source": [
        "df.head()"
      ],
      "metadata": {
        "colab": {
          "base_uri": "https://localhost:8080/",
          "height": 206
        },
        "id": "x5evLLPpQ-Qo",
        "outputId": "6a77fce5-829f-44d0-ac14-c357aad68aa4"
      },
      "execution_count": null,
      "outputs": [
        {
          "output_type": "execute_result",
          "data": {
            "text/plain": [
              "  sentimen                                              tweet  labels\n",
              "0  negatif  kata indonesia tidak harga bangsa asing berita...       0\n",
              "1   netral  batu langka tasbih jokowi hadiah dari habib lu...       1\n",
              "2   netral  di era jokowi ekonomi indonesia makin baik pic...       1\n",
              "3  positif  bagi sumatra selatan asi games dampak pada eko...       2\n",
              "4  negatif  negara kita utang buat bangun infrastruktur ya...       0"
            ],
            "text/html": [
              "\n",
              "  <div id=\"df-514fdf90-4da1-4c6b-ab89-3faba99a473e\" class=\"colab-df-container\">\n",
              "    <div>\n",
              "<style scoped>\n",
              "    .dataframe tbody tr th:only-of-type {\n",
              "        vertical-align: middle;\n",
              "    }\n",
              "\n",
              "    .dataframe tbody tr th {\n",
              "        vertical-align: top;\n",
              "    }\n",
              "\n",
              "    .dataframe thead th {\n",
              "        text-align: right;\n",
              "    }\n",
              "</style>\n",
              "<table border=\"1\" class=\"dataframe\">\n",
              "  <thead>\n",
              "    <tr style=\"text-align: right;\">\n",
              "      <th></th>\n",
              "      <th>sentimen</th>\n",
              "      <th>tweet</th>\n",
              "      <th>labels</th>\n",
              "    </tr>\n",
              "  </thead>\n",
              "  <tbody>\n",
              "    <tr>\n",
              "      <th>0</th>\n",
              "      <td>negatif</td>\n",
              "      <td>kata indonesia tidak harga bangsa asing berita...</td>\n",
              "      <td>0</td>\n",
              "    </tr>\n",
              "    <tr>\n",
              "      <th>1</th>\n",
              "      <td>netral</td>\n",
              "      <td>batu langka tasbih jokowi hadiah dari habib lu...</td>\n",
              "      <td>1</td>\n",
              "    </tr>\n",
              "    <tr>\n",
              "      <th>2</th>\n",
              "      <td>netral</td>\n",
              "      <td>di era jokowi ekonomi indonesia makin baik pic...</td>\n",
              "      <td>1</td>\n",
              "    </tr>\n",
              "    <tr>\n",
              "      <th>3</th>\n",
              "      <td>positif</td>\n",
              "      <td>bagi sumatra selatan asi games dampak pada eko...</td>\n",
              "      <td>2</td>\n",
              "    </tr>\n",
              "    <tr>\n",
              "      <th>4</th>\n",
              "      <td>negatif</td>\n",
              "      <td>negara kita utang buat bangun infrastruktur ya...</td>\n",
              "      <td>0</td>\n",
              "    </tr>\n",
              "  </tbody>\n",
              "</table>\n",
              "</div>\n",
              "    <div class=\"colab-df-buttons\">\n",
              "\n",
              "  <div class=\"colab-df-container\">\n",
              "    <button class=\"colab-df-convert\" onclick=\"convertToInteractive('df-514fdf90-4da1-4c6b-ab89-3faba99a473e')\"\n",
              "            title=\"Convert this dataframe to an interactive table.\"\n",
              "            style=\"display:none;\">\n",
              "\n",
              "  <svg xmlns=\"http://www.w3.org/2000/svg\" height=\"24px\" viewBox=\"0 -960 960 960\">\n",
              "    <path d=\"M120-120v-720h720v720H120Zm60-500h600v-160H180v160Zm220 220h160v-160H400v160Zm0 220h160v-160H400v160ZM180-400h160v-160H180v160Zm440 0h160v-160H620v160ZM180-180h160v-160H180v160Zm440 0h160v-160H620v160Z\"/>\n",
              "  </svg>\n",
              "    </button>\n",
              "\n",
              "  <style>\n",
              "    .colab-df-container {\n",
              "      display:flex;\n",
              "      gap: 12px;\n",
              "    }\n",
              "\n",
              "    .colab-df-convert {\n",
              "      background-color: #E8F0FE;\n",
              "      border: none;\n",
              "      border-radius: 50%;\n",
              "      cursor: pointer;\n",
              "      display: none;\n",
              "      fill: #1967D2;\n",
              "      height: 32px;\n",
              "      padding: 0 0 0 0;\n",
              "      width: 32px;\n",
              "    }\n",
              "\n",
              "    .colab-df-convert:hover {\n",
              "      background-color: #E2EBFA;\n",
              "      box-shadow: 0px 1px 2px rgba(60, 64, 67, 0.3), 0px 1px 3px 1px rgba(60, 64, 67, 0.15);\n",
              "      fill: #174EA6;\n",
              "    }\n",
              "\n",
              "    .colab-df-buttons div {\n",
              "      margin-bottom: 4px;\n",
              "    }\n",
              "\n",
              "    [theme=dark] .colab-df-convert {\n",
              "      background-color: #3B4455;\n",
              "      fill: #D2E3FC;\n",
              "    }\n",
              "\n",
              "    [theme=dark] .colab-df-convert:hover {\n",
              "      background-color: #434B5C;\n",
              "      box-shadow: 0px 1px 3px 1px rgba(0, 0, 0, 0.15);\n",
              "      filter: drop-shadow(0px 1px 2px rgba(0, 0, 0, 0.3));\n",
              "      fill: #FFFFFF;\n",
              "    }\n",
              "  </style>\n",
              "\n",
              "    <script>\n",
              "      const buttonEl =\n",
              "        document.querySelector('#df-514fdf90-4da1-4c6b-ab89-3faba99a473e button.colab-df-convert');\n",
              "      buttonEl.style.display =\n",
              "        google.colab.kernel.accessAllowed ? 'block' : 'none';\n",
              "\n",
              "      async function convertToInteractive(key) {\n",
              "        const element = document.querySelector('#df-514fdf90-4da1-4c6b-ab89-3faba99a473e');\n",
              "        const dataTable =\n",
              "          await google.colab.kernel.invokeFunction('convertToInteractive',\n",
              "                                                    [key], {});\n",
              "        if (!dataTable) return;\n",
              "\n",
              "        const docLinkHtml = 'Like what you see? Visit the ' +\n",
              "          '<a target=\"_blank\" href=https://colab.research.google.com/notebooks/data_table.ipynb>data table notebook</a>'\n",
              "          + ' to learn more about interactive tables.';\n",
              "        element.innerHTML = '';\n",
              "        dataTable['output_type'] = 'display_data';\n",
              "        await google.colab.output.renderOutput(dataTable, element);\n",
              "        const docLink = document.createElement('div');\n",
              "        docLink.innerHTML = docLinkHtml;\n",
              "        element.appendChild(docLink);\n",
              "      }\n",
              "    </script>\n",
              "  </div>\n",
              "\n",
              "\n",
              "<div id=\"df-cdbe4b46-4ee1-4ec5-b1e7-18d6eb3b9722\">\n",
              "  <button class=\"colab-df-quickchart\" onclick=\"quickchart('df-cdbe4b46-4ee1-4ec5-b1e7-18d6eb3b9722')\"\n",
              "            title=\"Suggest charts\"\n",
              "            style=\"display:none;\">\n",
              "\n",
              "<svg xmlns=\"http://www.w3.org/2000/svg\" height=\"24px\"viewBox=\"0 0 24 24\"\n",
              "     width=\"24px\">\n",
              "    <g>\n",
              "        <path d=\"M19 3H5c-1.1 0-2 .9-2 2v14c0 1.1.9 2 2 2h14c1.1 0 2-.9 2-2V5c0-1.1-.9-2-2-2zM9 17H7v-7h2v7zm4 0h-2V7h2v10zm4 0h-2v-4h2v4z\"/>\n",
              "    </g>\n",
              "</svg>\n",
              "  </button>\n",
              "\n",
              "<style>\n",
              "  .colab-df-quickchart {\n",
              "      --bg-color: #E8F0FE;\n",
              "      --fill-color: #1967D2;\n",
              "      --hover-bg-color: #E2EBFA;\n",
              "      --hover-fill-color: #174EA6;\n",
              "      --disabled-fill-color: #AAA;\n",
              "      --disabled-bg-color: #DDD;\n",
              "  }\n",
              "\n",
              "  [theme=dark] .colab-df-quickchart {\n",
              "      --bg-color: #3B4455;\n",
              "      --fill-color: #D2E3FC;\n",
              "      --hover-bg-color: #434B5C;\n",
              "      --hover-fill-color: #FFFFFF;\n",
              "      --disabled-bg-color: #3B4455;\n",
              "      --disabled-fill-color: #666;\n",
              "  }\n",
              "\n",
              "  .colab-df-quickchart {\n",
              "    background-color: var(--bg-color);\n",
              "    border: none;\n",
              "    border-radius: 50%;\n",
              "    cursor: pointer;\n",
              "    display: none;\n",
              "    fill: var(--fill-color);\n",
              "    height: 32px;\n",
              "    padding: 0;\n",
              "    width: 32px;\n",
              "  }\n",
              "\n",
              "  .colab-df-quickchart:hover {\n",
              "    background-color: var(--hover-bg-color);\n",
              "    box-shadow: 0 1px 2px rgba(60, 64, 67, 0.3), 0 1px 3px 1px rgba(60, 64, 67, 0.15);\n",
              "    fill: var(--button-hover-fill-color);\n",
              "  }\n",
              "\n",
              "  .colab-df-quickchart-complete:disabled,\n",
              "  .colab-df-quickchart-complete:disabled:hover {\n",
              "    background-color: var(--disabled-bg-color);\n",
              "    fill: var(--disabled-fill-color);\n",
              "    box-shadow: none;\n",
              "  }\n",
              "\n",
              "  .colab-df-spinner {\n",
              "    border: 2px solid var(--fill-color);\n",
              "    border-color: transparent;\n",
              "    border-bottom-color: var(--fill-color);\n",
              "    animation:\n",
              "      spin 1s steps(1) infinite;\n",
              "  }\n",
              "\n",
              "  @keyframes spin {\n",
              "    0% {\n",
              "      border-color: transparent;\n",
              "      border-bottom-color: var(--fill-color);\n",
              "      border-left-color: var(--fill-color);\n",
              "    }\n",
              "    20% {\n",
              "      border-color: transparent;\n",
              "      border-left-color: var(--fill-color);\n",
              "      border-top-color: var(--fill-color);\n",
              "    }\n",
              "    30% {\n",
              "      border-color: transparent;\n",
              "      border-left-color: var(--fill-color);\n",
              "      border-top-color: var(--fill-color);\n",
              "      border-right-color: var(--fill-color);\n",
              "    }\n",
              "    40% {\n",
              "      border-color: transparent;\n",
              "      border-right-color: var(--fill-color);\n",
              "      border-top-color: var(--fill-color);\n",
              "    }\n",
              "    60% {\n",
              "      border-color: transparent;\n",
              "      border-right-color: var(--fill-color);\n",
              "    }\n",
              "    80% {\n",
              "      border-color: transparent;\n",
              "      border-right-color: var(--fill-color);\n",
              "      border-bottom-color: var(--fill-color);\n",
              "    }\n",
              "    90% {\n",
              "      border-color: transparent;\n",
              "      border-bottom-color: var(--fill-color);\n",
              "    }\n",
              "  }\n",
              "</style>\n",
              "\n",
              "  <script>\n",
              "    async function quickchart(key) {\n",
              "      const quickchartButtonEl =\n",
              "        document.querySelector('#' + key + ' button');\n",
              "      quickchartButtonEl.disabled = true;  // To prevent multiple clicks.\n",
              "      quickchartButtonEl.classList.add('colab-df-spinner');\n",
              "      try {\n",
              "        const charts = await google.colab.kernel.invokeFunction(\n",
              "            'suggestCharts', [key], {});\n",
              "      } catch (error) {\n",
              "        console.error('Error during call to suggestCharts:', error);\n",
              "      }\n",
              "      quickchartButtonEl.classList.remove('colab-df-spinner');\n",
              "      quickchartButtonEl.classList.add('colab-df-quickchart-complete');\n",
              "    }\n",
              "    (() => {\n",
              "      let quickchartButtonEl =\n",
              "        document.querySelector('#df-cdbe4b46-4ee1-4ec5-b1e7-18d6eb3b9722 button');\n",
              "      quickchartButtonEl.style.display =\n",
              "        google.colab.kernel.accessAllowed ? 'block' : 'none';\n",
              "    })();\n",
              "  </script>\n",
              "</div>\n",
              "\n",
              "    </div>\n",
              "  </div>\n"
            ],
            "application/vnd.google.colaboratory.intrinsic+json": {
              "type": "dataframe",
              "variable_name": "df",
              "summary": "{\n  \"name\": \"df\",\n  \"rows\": 1815,\n  \"fields\": [\n    {\n      \"column\": \"sentimen\",\n      \"properties\": {\n        \"dtype\": \"category\",\n        \"num_unique_values\": 3,\n        \"samples\": [\n          \"negatif\",\n          \"netral\",\n          \"positif\"\n        ],\n        \"semantic_type\": \"\",\n        \"description\": \"\"\n      }\n    },\n    {\n      \"column\": \"tweet\",\n      \"properties\": {\n        \"dtype\": \"string\",\n        \"num_unique_values\": 1806,\n        \"samples\": [\n          \"prabowo sebut ekonomi indonesia salah arah salah presiden dahulu pictwittercombvgqilidvt\",\n          \"terus lah suara minta adil suara begitu arti id kerja yang benarjangan makan gaji buta jangan curang\",\n          \"pak jokowi tolong kondisi harga pringles original yang tidak turun saya sedih\"\n        ],\n        \"semantic_type\": \"\",\n        \"description\": \"\"\n      }\n    },\n    {\n      \"column\": \"labels\",\n      \"properties\": {\n        \"dtype\": \"number\",\n        \"std\": 0,\n        \"min\": 0,\n        \"max\": 2,\n        \"num_unique_values\": 3,\n        \"samples\": [\n          0,\n          1,\n          2\n        ],\n        \"semantic_type\": \"\",\n        \"description\": \"\"\n      }\n    }\n  ]\n}"
            }
          },
          "metadata": {},
          "execution_count": 59
        }
      ]
    },
    {
      "cell_type": "markdown",
      "source": [
        "## Modeling"
      ],
      "metadata": {
        "id": "yAykG_rBRUzp"
      }
    },
    {
      "cell_type": "markdown",
      "source": [
        "### Split data"
      ],
      "metadata": {
        "id": "OSrU712ZRhYz"
      }
    },
    {
      "cell_type": "code",
      "source": [
        "train_texts, test_texts, train_labels, test_labels = train_test_split(\n",
        "    df['tweet'], df['labels'], test_size=0.2, random_state=42\n",
        ")\n",
        "train_texts, val_texts, train_labels, val_labels = train_test_split(\n",
        "    train_texts, train_labels, test_size=0.25, random_state=42  # 0.25 * 0.8 = 0.2\n",
        ")\n",
        "\n",
        "print(f\"Training data: {len(train_texts)}\")\n",
        "print(f\"Validation data: {len(val_texts)}\")\n",
        "print(f\"Testing data: {len(test_texts)}\")"
      ],
      "metadata": {
        "colab": {
          "base_uri": "https://localhost:8080/"
        },
        "id": "3XBpDsEnRUiB",
        "outputId": "32c3774d-1fee-470f-8685-43d814e4be88"
      },
      "execution_count": null,
      "outputs": [
        {
          "output_type": "stream",
          "name": "stdout",
          "text": [
            "Training data: 1089\n",
            "Validation data: 363\n",
            "Testing data: 363\n"
          ]
        }
      ]
    },
    {
      "cell_type": "code",
      "source": [
        "train_df, temp_df = train_test_split(df, test_size=0.2, stratify=df['sentimen'], random_state=42)\n",
        "val_df, test_df = train_test_split(temp_df, test_size=0.5, stratify=temp_df['sentimen'], random_state=42)"
      ],
      "metadata": {
        "id": "FOxIsB1R15vg"
      },
      "execution_count": null,
      "outputs": []
    },
    {
      "cell_type": "code",
      "source": [
        "# Menghitung total baris dari masing-masing set\n",
        "train_total = train_df.shape[0]\n",
        "val_total = val_df.shape[0]\n",
        "test_total = test_df.shape[0]\n",
        "\n",
        "# Menghitung jumlah data per label untuk setiap set\n",
        "train_counts = train_df['sentimen'].value_counts().sort_index()\n",
        "val_counts = val_df['sentimen'].value_counts().sort_index()\n",
        "test_counts = test_df['sentimen'].value_counts().sort_index()\n",
        "\n",
        "# Menampilkan hasil\n",
        "print(f'Total data in training set: {train_total}')\n",
        "print(train_counts)\n",
        "print()\n",
        "print(f'Total data in validation set: {val_total}')\n",
        "print(val_counts)\n",
        "print()\n",
        "print(f'Total data in testing set: {test_total}')\n",
        "print(test_counts)"
      ],
      "metadata": {
        "colab": {
          "base_uri": "https://localhost:8080/"
        },
        "id": "nw1K4Tug3qJd",
        "outputId": "f11bc39c-36f7-430f-e5cb-3b258cb3db75"
      },
      "execution_count": null,
      "outputs": [
        {
          "output_type": "stream",
          "name": "stdout",
          "text": [
            "Total data in training set: 1452\n",
            "sentimen\n",
            "negatif    477\n",
            "netral     486\n",
            "positif    489\n",
            "Name: count, dtype: int64\n",
            "\n",
            "Total data in validation set: 181\n",
            "sentimen\n",
            "negatif    60\n",
            "netral     60\n",
            "positif    61\n",
            "Name: count, dtype: int64\n",
            "\n",
            "Total data in testing set: 182\n",
            "sentimen\n",
            "negatif    59\n",
            "netral     61\n",
            "positif    62\n",
            "Name: count, dtype: int64\n"
          ]
        }
      ]
    },
    {
      "cell_type": "markdown",
      "source": [
        "### Tokenisasi"
      ],
      "metadata": {
        "id": "2MGSUcxgRfqB"
      }
    },
    {
      "cell_type": "code",
      "source": [
        "max_words = 10000  # Jumlah kata yang akan dipertahankan\n",
        "max_len = 100  # Panjang sekuens tweet\n",
        "\n",
        "tokenizer = Tokenizer(num_words=max_words)\n",
        "tokenizer.fit_on_texts(train_texts)\n",
        "\n",
        "train_sequences = tokenizer.texts_to_sequences(train_texts)\n",
        "val_sequences = tokenizer.texts_to_sequences(val_texts)\n",
        "test_sequences = tokenizer.texts_to_sequences(test_texts)\n",
        "\n",
        "train_data = pad_sequences(train_sequences, maxlen=max_len)\n",
        "val_data = pad_sequences(val_sequences, maxlen=max_len)\n",
        "test_data = pad_sequences(test_sequences, maxlen=max_len)\n"
      ],
      "metadata": {
        "id": "elYywBFsRer5"
      },
      "execution_count": null,
      "outputs": []
    },
    {
      "cell_type": "code",
      "source": [
        "train_data"
      ],
      "metadata": {
        "colab": {
          "base_uri": "https://localhost:8080/"
        },
        "id": "5nimRDLYRkPA",
        "outputId": "020c0aeb-2ad9-4996-a94c-bff16fbf4f74"
      },
      "execution_count": null,
      "outputs": [
        {
          "output_type": "execute_result",
          "data": {
            "text/plain": [
              "array([[   0,    0,    0, ...,  280,    7,  435],\n",
              "       [   0,    0,    0, ...,   67,   42,   23],\n",
              "       [   0,    0,    0, ...,   33,  658,    1],\n",
              "       ...,\n",
              "       [   0,    0,    0, ..., 3478,  322,  229],\n",
              "       [   0,    0,    0, ...,  125,   18,  129],\n",
              "       [   0,    0,    0, ...,    8,   60, 3489]], dtype=int32)"
            ]
          },
          "metadata": {},
          "execution_count": 9
        }
      ]
    },
    {
      "cell_type": "code",
      "source": [
        "train_labels = to_categorical(train_labels)\n",
        "val_labels = to_categorical(val_labels)\n",
        "test_labels = to_categorical(test_labels)"
      ],
      "metadata": {
        "id": "fz4YdCjrRm-I"
      },
      "execution_count": null,
      "outputs": []
    },
    {
      "cell_type": "code",
      "source": [
        "train_labels"
      ],
      "metadata": {
        "colab": {
          "base_uri": "https://localhost:8080/"
        },
        "id": "cVbyiG1ZRoTI",
        "outputId": "b2d9b781-992c-44b8-da7c-44697c27d03e"
      },
      "execution_count": null,
      "outputs": [
        {
          "output_type": "execute_result",
          "data": {
            "text/plain": [
              "array([[0., 0., 1.],\n",
              "       [1., 0., 0.],\n",
              "       [0., 1., 0.],\n",
              "       ...,\n",
              "       [0., 0., 1.],\n",
              "       [0., 1., 0.],\n",
              "       [0., 0., 1.]], dtype=float32)"
            ]
          },
          "metadata": {},
          "execution_count": 11
        }
      ]
    },
    {
      "cell_type": "markdown",
      "source": [
        "### Model CNN-BiLSTM"
      ],
      "metadata": {
        "id": "aT9gcrD9RqSB"
      }
    },
    {
      "cell_type": "code",
      "source": [
        "from tensorflow.keras.models import Sequential\n",
        "from tensorflow.keras.layers import Embedding, Conv1D, MaxPooling1D, LSTM, Dense, Dropout\n",
        "\n",
        "embedding_dim = 100  # Ukuran embedding\n",
        "\n",
        "model = Sequential([\n",
        "    Embedding(input_dim=max_words, output_dim=embedding_dim, input_length=max_len),\n",
        "    Conv1D(filters=128, kernel_size=5, activation='relu'),\n",
        "    MaxPooling1D(pool_size=4),\n",
        "    LSTM(64, return_sequences=True),\n",
        "    LSTM(32),\n",
        "    Dense(64, activation='relu'),\n",
        "    Dropout(0.5),\n",
        "    Dense(3, activation='softmax')  # Output layer untuk 3 kelas sentimen\n",
        "])\n",
        "\n",
        "model.compile(optimizer='adam', loss='categorical_crossentropy', metrics=['accuracy'])\n",
        "model.summary()\n"
      ],
      "metadata": {
        "colab": {
          "base_uri": "https://localhost:8080/"
        },
        "id": "GxHIJFkSRsMB",
        "outputId": "3e49f71a-07f2-475c-fbeb-7df95d9cf723"
      },
      "execution_count": null,
      "outputs": [
        {
          "output_type": "stream",
          "name": "stdout",
          "text": [
            "Model: \"sequential\"\n",
            "_________________________________________________________________\n",
            " Layer (type)                Output Shape              Param #   \n",
            "=================================================================\n",
            " embedding (Embedding)       (None, 100, 100)          1000000   \n",
            "                                                                 \n",
            " conv1d (Conv1D)             (None, 96, 128)           64128     \n",
            "                                                                 \n",
            " max_pooling1d (MaxPooling1  (None, 24, 128)           0         \n",
            " D)                                                              \n",
            "                                                                 \n",
            " lstm (LSTM)                 (None, 24, 64)            49408     \n",
            "                                                                 \n",
            " lstm_1 (LSTM)               (None, 32)                12416     \n",
            "                                                                 \n",
            " dense (Dense)               (None, 64)                2112      \n",
            "                                                                 \n",
            " dropout (Dropout)           (None, 64)                0         \n",
            "                                                                 \n",
            " dense_1 (Dense)             (None, 3)                 195       \n",
            "                                                                 \n",
            "=================================================================\n",
            "Total params: 1128259 (4.30 MB)\n",
            "Trainable params: 1128259 (4.30 MB)\n",
            "Non-trainable params: 0 (0.00 Byte)\n",
            "_________________________________________________________________\n"
          ]
        }
      ]
    },
    {
      "cell_type": "markdown",
      "source": [
        "### Training Model"
      ],
      "metadata": {
        "id": "E78msQcBRyrB"
      }
    },
    {
      "cell_type": "code",
      "source": [
        "history = model.fit(\n",
        "    train_data, train_labels,\n",
        "    epochs=10,\n",
        "    batch_size=32,\n",
        "    validation_data=(val_data, val_labels)\n",
        ")\n"
      ],
      "metadata": {
        "colab": {
          "base_uri": "https://localhost:8080/"
        },
        "id": "Ix-Yw4NRRumx",
        "outputId": "ed7cff12-59ef-4837-ee21-275470e6d259"
      },
      "execution_count": null,
      "outputs": [
        {
          "output_type": "stream",
          "name": "stdout",
          "text": [
            "Epoch 1/10\n",
            "35/35 [==============================] - 10s 157ms/step - loss: 1.0839 - accuracy: 0.3838 - val_loss: 1.0574 - val_accuracy: 0.4215\n",
            "Epoch 2/10\n",
            "35/35 [==============================] - 3s 72ms/step - loss: 1.0372 - accuracy: 0.4573 - val_loss: 1.1001 - val_accuracy: 0.4270\n",
            "Epoch 3/10\n",
            "35/35 [==============================] - 3s 74ms/step - loss: 0.9499 - accuracy: 0.5335 - val_loss: 0.9917 - val_accuracy: 0.4986\n",
            "Epoch 4/10\n",
            "35/35 [==============================] - 3s 76ms/step - loss: 0.6963 - accuracy: 0.7254 - val_loss: 1.0646 - val_accuracy: 0.5702\n",
            "Epoch 5/10\n",
            "35/35 [==============================] - 3s 82ms/step - loss: 0.4202 - accuracy: 0.8696 - val_loss: 1.2054 - val_accuracy: 0.5592\n",
            "Epoch 6/10\n",
            "35/35 [==============================] - 4s 128ms/step - loss: 0.2400 - accuracy: 0.9394 - val_loss: 1.4601 - val_accuracy: 0.5647\n",
            "Epoch 7/10\n",
            "35/35 [==============================] - 3s 76ms/step - loss: 0.1452 - accuracy: 0.9605 - val_loss: 1.6555 - val_accuracy: 0.5399\n",
            "Epoch 8/10\n",
            "35/35 [==============================] - 3s 72ms/step - loss: 0.1344 - accuracy: 0.9688 - val_loss: 1.8382 - val_accuracy: 0.5510\n",
            "Epoch 9/10\n",
            "35/35 [==============================] - 3s 80ms/step - loss: 0.0925 - accuracy: 0.9780 - val_loss: 1.9844 - val_accuracy: 0.5482\n",
            "Epoch 10/10\n",
            "35/35 [==============================] - 3s 82ms/step - loss: 0.0787 - accuracy: 0.9826 - val_loss: 1.8959 - val_accuracy: 0.5565\n"
          ]
        }
      ]
    },
    {
      "cell_type": "markdown",
      "source": [
        "### Evaluasi model"
      ],
      "metadata": {
        "id": "hmIUJjrwRwSQ"
      }
    },
    {
      "cell_type": "code",
      "source": [
        "loss, accuracy = model.evaluate(test_data, test_labels)\n",
        "print(f'Test Loss: {loss:.4f}')\n",
        "print(f'Test Accuracy: {accuracy:.4f}')\n"
      ],
      "metadata": {
        "colab": {
          "base_uri": "https://localhost:8080/",
          "height": 183
        },
        "id": "u77AIMz7RyLx",
        "outputId": "60b065db-9575-45dc-8780-1a970da7d2d2"
      },
      "execution_count": null,
      "outputs": [
        {
          "output_type": "error",
          "ename": "NameError",
          "evalue": "name 'model' is not defined",
          "traceback": [
            "\u001b[0;31m---------------------------------------------------------------------------\u001b[0m",
            "\u001b[0;31mNameError\u001b[0m                                 Traceback (most recent call last)",
            "\u001b[0;32m<ipython-input-47-c800349afcdb>\u001b[0m in \u001b[0;36m<cell line: 1>\u001b[0;34m()\u001b[0m\n\u001b[0;32m----> 1\u001b[0;31m \u001b[0mloss\u001b[0m\u001b[0;34m,\u001b[0m \u001b[0maccuracy\u001b[0m \u001b[0;34m=\u001b[0m \u001b[0mmodel\u001b[0m\u001b[0;34m.\u001b[0m\u001b[0mevaluate\u001b[0m\u001b[0;34m(\u001b[0m\u001b[0mtest_data\u001b[0m\u001b[0;34m,\u001b[0m \u001b[0mtest_labels\u001b[0m\u001b[0;34m)\u001b[0m\u001b[0;34m\u001b[0m\u001b[0;34m\u001b[0m\u001b[0m\n\u001b[0m\u001b[1;32m      2\u001b[0m \u001b[0mprint\u001b[0m\u001b[0;34m(\u001b[0m\u001b[0;34mf'Test Loss: {loss:.4f}'\u001b[0m\u001b[0;34m)\u001b[0m\u001b[0;34m\u001b[0m\u001b[0;34m\u001b[0m\u001b[0m\n\u001b[1;32m      3\u001b[0m \u001b[0mprint\u001b[0m\u001b[0;34m(\u001b[0m\u001b[0;34mf'Test Accuracy: {accuracy:.4f}'\u001b[0m\u001b[0;34m)\u001b[0m\u001b[0;34m\u001b[0m\u001b[0;34m\u001b[0m\u001b[0m\n",
            "\u001b[0;31mNameError\u001b[0m: name 'model' is not defined"
          ]
        }
      ]
    },
    {
      "cell_type": "markdown",
      "source": [
        "### Fine tuning"
      ],
      "metadata": {
        "id": "0p090auNSj8K"
      }
    },
    {
      "cell_type": "code",
      "source": [
        "from tensorflow.keras.models import Sequential\n",
        "from tensorflow.keras.layers import Embedding, Conv1D, MaxPooling1D, LSTM, Dense, Dropout\n",
        "from tensorflow.keras.regularizers import l1_l2\n",
        "from tensorflow.keras.callbacks import EarlyStopping\n",
        "\n",
        "import tensorflow as tf\n",
        "\n",
        "embedding_dim = 100  # Ukuran embedding\n",
        "regularizer = l1_l2(l1=1e-6, l2=0.0)\n",
        "\n",
        "model_1 = Sequential([\n",
        "    Embedding(input_dim=max_words, output_dim=embedding_dim, input_length=max_len),\n",
        "    Conv1D(filters=128, kernel_size=5, activation='relu',kernel_regularizer=regularizer),\n",
        "    MaxPooling1D(pool_size=4),\n",
        "    LSTM(64, return_sequences=True),\n",
        "    Dropout(0.1),\n",
        "    LSTM(32, kernel_regularizer=regularizer),\n",
        "    Dense(64, activation='relu', kernel_regularizer=regularizer),\n",
        "    Dropout(0.1),\n",
        "    Dense(3, activation='softmax')  # Output layer untuk 3 kelas sentimen\n",
        "])\n",
        "\n",
        "model_1.compile(optimizer=tf.keras.optimizers.Adam(learning_rate=0.001),\n",
        "                loss='binary_crossentropy',\n",
        "                metrics=['accuracy'])\n",
        "\n",
        "model_1.summary()\n",
        "\n",
        "# Early stopping callback\n",
        "# early_stopping = EarlyStopping(\n",
        "#     monitor='val_accuracy',  # Memantau metrik val_accuracy\n",
        "#     patience=10,              # Berhenti setelah 3 epoch tanpa peningkatan\n",
        "#     min_delta=0.01,           # Perubahan minimal dalam val_accuracy yang dianggap signifikan\n",
        "#     verbose=1,                # Menampilkan pesan saat menghentikan pelatihan\n",
        "#     mode='max',               # Mode 'max' untuk memantau peningkatan val_accuracy\n",
        "#     baseline=0.75,             # Baseline val_accuracy yang harus dicapai atau dilewati\n",
        "#     restore_best_weights=True  # Mengembalikan bobot terbaik saat berhenti\n",
        "# )\n",
        "callback = EarlyStopping(monitor='val_accuracy', patience=10, restore_best_weights=True)"
      ],
      "metadata": {
        "colab": {
          "base_uri": "https://localhost:8080/"
        },
        "id": "M3X75wFeSlUh",
        "outputId": "60985aa8-62d3-45e7-9dfe-4c4e47b1fdad"
      },
      "execution_count": null,
      "outputs": [
        {
          "output_type": "stream",
          "name": "stdout",
          "text": [
            "Model: \"sequential_22\"\n",
            "_________________________________________________________________\n",
            " Layer (type)                Output Shape              Param #   \n",
            "=================================================================\n",
            " embedding_22 (Embedding)    (None, 100, 100)          1000000   \n",
            "                                                                 \n",
            " conv1d_22 (Conv1D)          (None, 96, 128)           64128     \n",
            "                                                                 \n",
            " max_pooling1d_22 (MaxPooli  (None, 24, 128)           0         \n",
            " ng1D)                                                           \n",
            "                                                                 \n",
            " lstm_45 (LSTM)              (None, 24, 64)            49408     \n",
            "                                                                 \n",
            " dropout_34 (Dropout)        (None, 24, 64)            0         \n",
            "                                                                 \n",
            " lstm_46 (LSTM)              (None, 32)                12416     \n",
            "                                                                 \n",
            " dense_44 (Dense)            (None, 64)                2112      \n",
            "                                                                 \n",
            " dropout_35 (Dropout)        (None, 64)                0         \n",
            "                                                                 \n",
            " dense_45 (Dense)            (None, 3)                 195       \n",
            "                                                                 \n",
            "=================================================================\n",
            "Total params: 1128259 (4.30 MB)\n",
            "Trainable params: 1128259 (4.30 MB)\n",
            "Non-trainable params: 0 (0.00 Byte)\n",
            "_________________________________________________________________\n"
          ]
        }
      ]
    },
    {
      "cell_type": "code",
      "source": [
        "history = model_1.fit(\n",
        "    train_data, train_labels,\n",
        "    epochs=50,  # Meningkatkan epoch, karena kita menggunakan early stopping\n",
        "    batch_size=20,\n",
        "    validation_data=(val_data, val_labels),\n",
        "    callbacks=[early_stopping]\n",
        ")"
      ],
      "metadata": {
        "colab": {
          "base_uri": "https://localhost:8080/"
        },
        "id": "yH-9tAY0SoCx",
        "outputId": "bf240fca-f68f-4a49-f594-066404051cd7"
      },
      "execution_count": null,
      "outputs": [
        {
          "output_type": "stream",
          "name": "stdout",
          "text": [
            "Epoch 1/50\n",
            "55/55 [==============================] - 12s 90ms/step - loss: 0.6455 - accuracy: 0.3682 - val_loss: 0.6322 - val_accuracy: 0.3967\n",
            "Epoch 2/50\n",
            "55/55 [==============================] - 4s 72ms/step - loss: 0.5959 - accuracy: 0.4784 - val_loss: 0.6018 - val_accuracy: 0.4821\n",
            "Epoch 3/50\n",
            "55/55 [==============================] - 6s 107ms/step - loss: 0.5171 - accuracy: 0.5923 - val_loss: 0.5852 - val_accuracy: 0.5702\n",
            "Epoch 4/50\n",
            "55/55 [==============================] - 4s 71ms/step - loss: 0.3624 - accuracy: 0.7851 - val_loss: 0.6225 - val_accuracy: 0.5592\n",
            "Epoch 5/50\n",
            "55/55 [==============================] - 4s 69ms/step - loss: 0.2169 - accuracy: 0.8999 - val_loss: 0.7504 - val_accuracy: 0.5565\n",
            "Epoch 6/50\n",
            "55/55 [==============================] - 5s 87ms/step - loss: 0.1468 - accuracy: 0.9366 - val_loss: 0.8520 - val_accuracy: 0.5758\n",
            "Epoch 7/50\n",
            "55/55 [==============================] - 5s 93ms/step - loss: 0.1032 - accuracy: 0.9660 - val_loss: 0.9072 - val_accuracy: 0.5675\n",
            "Epoch 8/50\n",
            "55/55 [==============================] - 4s 71ms/step - loss: 0.0882 - accuracy: 0.9633 - val_loss: 0.9793 - val_accuracy: 0.5675\n",
            "Epoch 9/50\n",
            "55/55 [==============================] - 4s 70ms/step - loss: 0.0732 - accuracy: 0.9752 - val_loss: 1.0125 - val_accuracy: 0.5620\n",
            "Epoch 10/50\n",
            "55/55 [==============================] - ETA: 0s - loss: 0.0553 - accuracy: 0.9807Restoring model weights from the end of the best epoch: 3.\n",
            "55/55 [==============================] - 6s 107ms/step - loss: 0.0553 - accuracy: 0.9807 - val_loss: 1.1344 - val_accuracy: 0.5537\n",
            "Epoch 10: early stopping\n"
          ]
        }
      ]
    },
    {
      "cell_type": "code",
      "source": [
        "loss, accuracy = model_1.evaluate(test_data, test_labels)\n",
        "print(f'Test Loss: {loss:.4f}')\n",
        "print(f'Test Accuracy: {accuracy:.4f}')\n"
      ],
      "metadata": {
        "id": "JGi3ESHuSt_Y"
      },
      "execution_count": null,
      "outputs": []
    }
  ]
}