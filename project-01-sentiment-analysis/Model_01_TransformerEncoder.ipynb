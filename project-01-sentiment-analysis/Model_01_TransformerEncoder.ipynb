{
 "cells": [
  {
   "cell_type": "markdown",
   "id": "405d0453-a5b8-4dca-bf33-d121566281dd",
   "metadata": {},
   "source": [
    "## Label Encoding"
   ]
  },
  {
   "cell_type": "code",
   "execution_count": 44,
   "id": "f2fc4400-4d48-4a5e-bd7c-2ce01f782b2a",
   "metadata": {},
   "outputs": [
    {
     "data": {
      "text/html": [
       "<div>\n",
       "<style scoped>\n",
       "    .dataframe tbody tr th:only-of-type {\n",
       "        vertical-align: middle;\n",
       "    }\n",
       "\n",
       "    .dataframe tbody tr th {\n",
       "        vertical-align: top;\n",
       "    }\n",
       "\n",
       "    .dataframe thead th {\n",
       "        text-align: right;\n",
       "    }\n",
       "</style>\n",
       "<table border=\"1\" class=\"dataframe\">\n",
       "  <thead>\n",
       "    <tr style=\"text-align: right;\">\n",
       "      <th></th>\n",
       "      <th>sentimen</th>\n",
       "      <th>tweet</th>\n",
       "      <th>stopworded_stemmed</th>\n",
       "      <th>hashtags</th>\n",
       "      <th>mentions</th>\n",
       "      <th>tweet_length</th>\n",
       "      <th>sentimen_labels</th>\n",
       "    </tr>\n",
       "  </thead>\n",
       "  <tbody>\n",
       "    <tr>\n",
       "      <th>0</th>\n",
       "      <td>negatif</td>\n",
       "      <td>kata indonesia tidak dihargai bangsa asing ber...</td>\n",
       "      <td>indonesia harga bangsa asing berita hoax buat ...</td>\n",
       "      <td>[]</td>\n",
       "      <td>[@prabowo, @rockygerung]</td>\n",
       "      <td>195</td>\n",
       "      <td>0</td>\n",
       "    </tr>\n",
       "    <tr>\n",
       "      <th>1</th>\n",
       "      <td>netral</td>\n",
       "      <td>batuan langka tasbih jokowi hadiah dari habib ...</td>\n",
       "      <td>batu langka tasbih jokowi hadiah habib luthfi ...</td>\n",
       "      <td>[]</td>\n",
       "      <td>[]</td>\n",
       "      <td>93</td>\n",
       "      <td>1</td>\n",
       "    </tr>\n",
       "    <tr>\n",
       "      <th>2</th>\n",
       "      <td>netral</td>\n",
       "      <td>di era jokowi ekonomi indonesia semakin baik</td>\n",
       "      <td>era jokowi ekonomi indonesia</td>\n",
       "      <td>[#01IndonesiaMaju, #JokowiLagi, #JokowiMenangT...</td>\n",
       "      <td>[]</td>\n",
       "      <td>126</td>\n",
       "      <td>1</td>\n",
       "    </tr>\n",
       "    <tr>\n",
       "      <th>3</th>\n",
       "      <td>positif</td>\n",
       "      <td>bagi sumatera selatan asian games berdampak pd...</td>\n",
       "      <td>sumatera selatan asi games dampak pd ekonomi l...</td>\n",
       "      <td>[]</td>\n",
       "      <td>[]</td>\n",
       "      <td>128</td>\n",
       "      <td>2</td>\n",
       "    </tr>\n",
       "    <tr>\n",
       "      <th>4</th>\n",
       "      <td>negatif</td>\n",
       "      <td>negara kita ngutang buat bngun infrastruktur y...</td>\n",
       "      <td>negara ngutang bngun infrastruktur dipake masy...</td>\n",
       "      <td>[]</td>\n",
       "      <td>[]</td>\n",
       "      <td>244</td>\n",
       "      <td>0</td>\n",
       "    </tr>\n",
       "    <tr>\n",
       "      <th>...</th>\n",
       "      <td>...</td>\n",
       "      <td>...</td>\n",
       "      <td>...</td>\n",
       "      <td>...</td>\n",
       "      <td>...</td>\n",
       "      <td>...</td>\n",
       "      <td>...</td>\n",
       "    </tr>\n",
       "    <tr>\n",
       "      <th>1810</th>\n",
       "      <td>netral</td>\n",
       "      <td>negarawan sejati sll bangga dan mengedepankan ...</td>\n",
       "      <td>negarawan sejati sll bangga depan harga bangsa...</td>\n",
       "      <td>[#2019GantiPresiden]</td>\n",
       "      <td>[]</td>\n",
       "      <td>99</td>\n",
       "      <td>1</td>\n",
       "    </tr>\n",
       "    <tr>\n",
       "      <th>1811</th>\n",
       "      <td>netral</td>\n",
       "      <td>1 hrs ceramah di damai indonesiaku 2 perekonom...</td>\n",
       "      <td>1 hrs ceramah damai indonesia 2 ekonomi baik</td>\n",
       "      <td>[#PutihkanGBK]</td>\n",
       "      <td>[]</td>\n",
       "      <td>80</td>\n",
       "      <td>1</td>\n",
       "    </tr>\n",
       "    <tr>\n",
       "      <th>1812</th>\n",
       "      <td>netral</td>\n",
       "      <td>mari bangun bangsa dgn mendukung perekonomian ...</td>\n",
       "      <td>mari bangun bangsa dgn dukung ekonomi negara j...</td>\n",
       "      <td>[]</td>\n",
       "      <td>[]</td>\n",
       "      <td>148</td>\n",
       "      <td>1</td>\n",
       "    </tr>\n",
       "    <tr>\n",
       "      <th>1813</th>\n",
       "      <td>netral</td>\n",
       "      <td>bantu majukan perekonomian bangsa bersama pak ...</td>\n",
       "      <td>bantu maju ekonomi bangsa jokowi yuk</td>\n",
       "      <td>[]</td>\n",
       "      <td>[]</td>\n",
       "      <td>121</td>\n",
       "      <td>1</td>\n",
       "    </tr>\n",
       "    <tr>\n",
       "      <th>1814</th>\n",
       "      <td>netral</td>\n",
       "      <td>pak mengubah cara pandang ekonomi kini semua o...</td>\n",
       "      <td>ubah pandang ekonomi orang hubung indonesia pr...</td>\n",
       "      <td>[#MenyatuPutihJokowi]</td>\n",
       "      <td>[@jokowi]</td>\n",
       "      <td>146</td>\n",
       "      <td>1</td>\n",
       "    </tr>\n",
       "  </tbody>\n",
       "</table>\n",
       "<p>1815 rows × 7 columns</p>\n",
       "</div>"
      ],
      "text/plain": [
       "     sentimen                                              tweet  \\\n",
       "0     negatif  kata indonesia tidak dihargai bangsa asing ber...   \n",
       "1      netral  batuan langka tasbih jokowi hadiah dari habib ...   \n",
       "2      netral       di era jokowi ekonomi indonesia semakin baik   \n",
       "3     positif  bagi sumatera selatan asian games berdampak pd...   \n",
       "4     negatif  negara kita ngutang buat bngun infrastruktur y...   \n",
       "...       ...                                                ...   \n",
       "1810   netral  negarawan sejati sll bangga dan mengedepankan ...   \n",
       "1811   netral  1 hrs ceramah di damai indonesiaku 2 perekonom...   \n",
       "1812   netral  mari bangun bangsa dgn mendukung perekonomian ...   \n",
       "1813   netral  bantu majukan perekonomian bangsa bersama pak ...   \n",
       "1814   netral  pak mengubah cara pandang ekonomi kini semua o...   \n",
       "\n",
       "                                     stopworded_stemmed  \\\n",
       "0     indonesia harga bangsa asing berita hoax buat ...   \n",
       "1     batu langka tasbih jokowi hadiah habib luthfi ...   \n",
       "2                          era jokowi ekonomi indonesia   \n",
       "3     sumatera selatan asi games dampak pd ekonomi l...   \n",
       "4     negara ngutang bngun infrastruktur dipake masy...   \n",
       "...                                                 ...   \n",
       "1810  negarawan sejati sll bangga depan harga bangsa...   \n",
       "1811       1 hrs ceramah damai indonesia 2 ekonomi baik   \n",
       "1812  mari bangun bangsa dgn dukung ekonomi negara j...   \n",
       "1813               bantu maju ekonomi bangsa jokowi yuk   \n",
       "1814  ubah pandang ekonomi orang hubung indonesia pr...   \n",
       "\n",
       "                                               hashtags  \\\n",
       "0                                                    []   \n",
       "1                                                    []   \n",
       "2     [#01IndonesiaMaju, #JokowiLagi, #JokowiMenangT...   \n",
       "3                                                    []   \n",
       "4                                                    []   \n",
       "...                                                 ...   \n",
       "1810                               [#2019GantiPresiden]   \n",
       "1811                                     [#PutihkanGBK]   \n",
       "1812                                                 []   \n",
       "1813                                                 []   \n",
       "1814                              [#MenyatuPutihJokowi]   \n",
       "\n",
       "                      mentions  tweet_length  sentimen_labels  \n",
       "0     [@prabowo, @rockygerung]           195                0  \n",
       "1                           []            93                1  \n",
       "2                           []           126                1  \n",
       "3                           []           128                2  \n",
       "4                           []           244                0  \n",
       "...                        ...           ...              ...  \n",
       "1810                        []            99                1  \n",
       "1811                        []            80                1  \n",
       "1812                        []           148                1  \n",
       "1813                        []           121                1  \n",
       "1814                 [@jokowi]           146                1  \n",
       "\n",
       "[1815 rows x 7 columns]"
      ]
     },
     "execution_count": 44,
     "metadata": {},
     "output_type": "execute_result"
    }
   ],
   "source": [
    "sentiment_mapping = {'negatif': 0, 'netral': 1, 'positif': 2}\n",
    "\n",
    "df['sentimen_labels'] = df['sentimen'].map(sentiment_mapping)\n",
    "df"
   ]
  },
  {
   "cell_type": "markdown",
   "id": "e6b932d8-d649-4562-91cc-0c8b1636ef0e",
   "metadata": {},
   "source": [
    "## Feature Extraction / Text Vectorizer"
   ]
  },
  {
   "cell_type": "markdown",
   "id": "b3817c24-4f9f-4521-badd-a18da5bc06bf",
   "metadata": {},
   "source": [
    "<b>Using Bag-of-Words (BoW) 1-grams [CountVectorizer]</b>"
   ]
  },
  {
   "cell_type": "code",
   "execution_count": 45,
   "id": "db1e5f39-230c-43eb-a6a8-376bc4de5c9e",
   "metadata": {
    "tags": []
   },
   "outputs": [],
   "source": [
    "from sklearn.feature_extraction.text import CountVectorizer\n",
    "\n",
    "bow_vectorizer = CountVectorizer(analyzer='word', ngram_range=(1, 1))\n",
    "BoW = bow_vectorizer.fit_transform(df['tweet'].values.astype('U'))"
   ]
  },
  {
   "cell_type": "markdown",
   "id": "97fa8c04-7a1a-42fb-96c6-958c7c9ec0c3",
   "metadata": {},
   "source": [
    "<b>Get a few unique Tokens from CountVectorizer</b>"
   ]
  },
  {
   "cell_type": "code",
   "execution_count": 46,
   "id": "908ff886-e087-4ff3-944e-b76fa063d084",
   "metadata": {
    "tags": []
   },
   "outputs": [
    {
     "data": {
      "text/plain": [
       "array(['akal', 'akam', 'akan', 'akankah', 'akbar', 'akhir', 'akhirnya',\n",
       "       'akhlak', 'akhlaq', 'akibat', 'akidah', 'akma', 'akn', 'aksa',\n",
       "       'akses', 'aktif', 'aktifiktas', 'akting', 'aku', 'akui', 'akuin',\n",
       "       'akuisisi', 'akum', 'akumulasi', 'akun', 'akunnya',\n",
       "       'akuntabilitas', 'akupun', 'akutu', 'akutuh', 'al', 'ala', 'ala2',\n",
       "       'aladin', 'alam', 'alamat', 'alami', 'alamin', 'alangkah', 'alap',\n",
       "       'alasan', 'alasannya', 'alat', 'alesan', 'alhamdulillah',\n",
       "       'alhamdullilah', 'alhmdllh', 'aliansi', 'alias', 'alih', 'alihkan',\n",
       "       'aliran', 'alirkan', 'all', 'allah', 'allahu', 'allohuakbar',\n",
       "       'alm', 'alokasikan', 'alquran', 'alternatif', 'alurnya', 'ama',\n",
       "       'amal', 'aman', 'amanah', 'amanat', 'amang', 'amat', 'amatiran',\n",
       "       'ambil', 'ambilin', 'ambisi', 'ambisinya', 'ambruk', 'amburadul',\n",
       "       'amda', 'amerika', 'amien', 'amiiiiin', 'amiin', 'amin', 'amit',\n",
       "       'amnesti', 'amnesty', 'ampe', 'ampun', 'an', 'ana', 'anak',\n",
       "       'anak2', 'anaknya', 'analis', 'analisanya', 'analisis', 'and',\n",
       "       'anda', 'andalan', 'andi', 'andil'], dtype=object)"
      ]
     },
     "execution_count": 46,
     "metadata": {},
     "output_type": "execute_result"
    }
   ],
   "source": [
    "bow_vectorizer.get_feature_names_out()[200:300]"
   ]
  },
  {
   "cell_type": "markdown",
   "id": "4df0a51a-90cd-44e6-aabe-f79ab0c9f2c8",
   "metadata": {},
   "source": [
    "<b>Check BoW array shape</b>"
   ]
  },
  {
   "cell_type": "code",
   "execution_count": 47,
   "id": "dea790a1-eef2-4910-ba77-098ec506c1ca",
   "metadata": {
    "tags": []
   },
   "outputs": [
    {
     "data": {
      "text/plain": [
       "(1815, 7026)"
      ]
     },
     "execution_count": 47,
     "metadata": {},
     "output_type": "execute_result"
    }
   ],
   "source": [
    "BoW.toarray().shape"
   ]
  },
  {
   "cell_type": "markdown",
   "id": "de672d67-cb63-4826-a67c-ec1f223c00d0",
   "metadata": {},
   "source": [
    "<b>Using TF-IDF feature extraction</b>"
   ]
  },
  {
   "cell_type": "code",
   "execution_count": 48,
   "id": "add52cc9-6aa8-45a1-8af3-fd70fe77db8d",
   "metadata": {
    "tags": []
   },
   "outputs": [
    {
     "name": "stdout",
     "output_type": "stream",
     "text": [
      "  (0, 2746)\t0.21405688792249014\n",
      "  (0, 6966)\t0.17839534326356213\n",
      "  (0, 5071)\t0.40187863135252255\n",
      "  (0, 1003)\t0.40187863135252255\n",
      "  (0, 2294)\t0.2948939973757384\n",
      "  (0, 4870)\t0.2428484115310528\n",
      "  (0, 2431)\t0.14408779079010994\n",
      "  (0, 718)\t0.3141715008489089\n",
      "  (0, 396)\t0.3141715008489089\n",
      "  (0, 507)\t0.2260409215875797\n",
      "  (0, 1429)\t0.286052519282893\n",
      "  (0, 6579)\t0.15556824392289925\n",
      "  (0, 2395)\t0.14763738665760237\n",
      "  (0, 2794)\t0.23731095015861317\n",
      "  (1, 4165)\t0.35655962491683896\n",
      "  (1, 5826)\t0.3380513719603746\n",
      "  (1, 3477)\t0.35655962491683896\n",
      "  (1, 2157)\t0.35655962491683896\n",
      "  (1, 1230)\t0.1579826256462024\n",
      "  (1, 2167)\t0.3380513719603746\n",
      "  (1, 2651)\t0.09688913857300015\n",
      "  (1, 6360)\t0.3380513719603746\n",
      "  (1, 3349)\t0.3380513719603746\n",
      "  (1, 550)\t0.35655962491683896\n",
      "  (2, 477)\t0.44541433471772635\n",
      "  :\t:\n",
      "  (1812, 507)\t0.27184550670764374\n",
      "  (1813, 3519)\t0.513025530346647\n",
      "  (1813, 518)\t0.4675011320972192\n",
      "  (1813, 793)\t0.35859232100359434\n",
      "  (1813, 7011)\t0.4219767338477915\n",
      "  (1813, 5135)\t0.2814218458824013\n",
      "  (1813, 4782)\t0.17232932047711833\n",
      "  (1813, 2651)\t0.1394061419961285\n",
      "  (1813, 507)\t0.28855668012811114\n",
      "  (1814, 6475)\t0.37109908306646\n",
      "  (1814, 1814)\t0.33816882628937556\n",
      "  (1814, 3121)\t0.3189058609356625\n",
      "  (1814, 5416)\t0.32756765146097716\n",
      "  (1814, 5836)\t0.26170713790680833\n",
      "  (1814, 4809)\t0.3115824213957757\n",
      "  (1814, 1080)\t0.26414399605540545\n",
      "  (1814, 3377)\t0.18718483382732487\n",
      "  (1814, 5917)\t0.19584662435263953\n",
      "  (1814, 4729)\t0.2008521252506962\n",
      "  (1814, 4054)\t0.20151658808412004\n",
      "  (1814, 4027)\t0.3115824213957757\n",
      "  (1814, 1220)\t0.1033149452790913\n",
      "  (1814, 4782)\t0.12465510784875251\n",
      "  (1814, 1824)\t0.08574734625385995\n",
      "  (1814, 2395)\t0.13632996268195524\n"
     ]
    }
   ],
   "source": [
    "from sklearn.feature_extraction.text import TfidfVectorizer\n",
    "\n",
    "tfidf_vectorizer = TfidfVectorizer()\n",
    "tfidf = tfidf_vectorizer.fit_transform(df['tweet'].values.astype('U'))\n",
    "print(tfidf)"
   ]
  },
  {
   "cell_type": "markdown",
   "id": "cb387e0e-6334-4b72-b2cc-39929d44a77c",
   "metadata": {},
   "source": [
    "<b>Check TF-IDF array shape</b>"
   ]
  },
  {
   "cell_type": "code",
   "execution_count": 49,
   "id": "450367df-597f-431f-b583-ca02de174b98",
   "metadata": {
    "tags": []
   },
   "outputs": [
    {
     "data": {
      "text/plain": [
       "(1815, 7026)"
      ]
     },
     "execution_count": 49,
     "metadata": {},
     "output_type": "execute_result"
    }
   ],
   "source": [
    "tfidf.toarray().shape"
   ]
  },
  {
   "cell_type": "markdown",
   "id": "77c45973-307a-4b27-9f37-50ac8af44f5b",
   "metadata": {},
   "source": [
    "<b>Index-based Encoding / Tokenizer Encoding</b><br>\n",
    "Index-based Encoding merupakan text vectorization yang umum digunakan pada Tokenizer Deep Learning.<br>\n",
    "Nantinya, vektor dari Index-based ini akan dilatih dengan model Deep Learning melalui layer Embedding,<br>\n",
    "sehingga setiap kata mempunyai nilai bobot unik agar mempunyai makna semantik dari konteks setiap teks.<br>"
   ]
  },
  {
   "cell_type": "code",
   "execution_count": 50,
   "id": "10841c13-c0aa-4a8c-a0af-028f0aedb8c1",
   "metadata": {
    "tags": []
   },
   "outputs": [],
   "source": [
    "from tensorflow.keras.preprocessing.text import Tokenizer\n",
    "from tensorflow.keras.preprocessing.sequence import pad_sequences"
   ]
  },
  {
   "cell_type": "code",
   "execution_count": 51,
   "id": "e880dd95-a344-4776-bc3e-dd59bd7adf8e",
   "metadata": {
    "tags": []
   },
   "outputs": [
    {
     "data": {
      "text/plain": [
       "7026"
      ]
     },
     "execution_count": 51,
     "metadata": {},
     "output_type": "execute_result"
    }
   ],
   "source": [
    "# Count total words from BoW tokens\n",
    "len(bow_vectorizer.get_feature_names_out())"
   ]
  },
  {
   "cell_type": "code",
   "execution_count": 52,
   "id": "913858df-b8fb-47b1-821c-bcf08a65bb9d",
   "metadata": {
    "tags": []
   },
   "outputs": [],
   "source": [
    "# num_words = 10000 just for approximation\n",
    "tokenizer = Tokenizer(num_words=10000, oov_token=\"<UNK>\")\n",
    "tokenizer.fit_on_texts(list(df['tweet']))"
   ]
  },
  {
   "cell_type": "code",
   "execution_count": 53,
   "id": "9d614d88-ff3a-4461-b9de-b4d2f18347e4",
   "metadata": {
    "tags": []
   },
   "outputs": [
    {
     "data": {
      "text/plain": [
       "{'<UNK>': 1,\n",
       " 'ekonomi': 2,\n",
       " 'dan': 3,\n",
       " 'prabowo': 4,\n",
       " 'jokowi': 5,\n",
       " 'yg': 6,\n",
       " 'di': 7,\n",
       " 'pak': 8,\n",
       " 'gaji': 9,\n",
       " 'itu': 10,\n",
       " 'sandi': 11,\n",
       " 'presiden': 12,\n",
       " 'ini': 13,\n",
       " 'yang': 14,\n",
       " 'indonesia': 15,\n",
       " 'akan': 16,\n",
       " 'harga': 17,\n",
       " 'tidak': 18,\n",
       " 'bisa': 19,\n",
       " 'rakyat': 20,\n",
       " 'untuk': 21,\n",
       " 'mau': 22,\n",
       " 'salah': 23,\n",
       " 'negara': 24,\n",
       " 'saya': 25,\n",
       " 'gak': 26,\n",
       " 'ke': 27,\n",
       " 'ada': 28,\n",
       " 'ambil': 29,\n",
       " 'ya': 30}"
      ]
     },
     "execution_count": 53,
     "metadata": {},
     "output_type": "execute_result"
    }
   ],
   "source": [
    "# print 30 sample word index\n",
    "dict(list(tokenizer.word_index.items())[:30])"
   ]
  },
  {
   "cell_type": "code",
   "execution_count": 54,
   "id": "eda97113-5b90-4f42-8792-ad7958b9e214",
   "metadata": {
    "tags": []
   },
   "outputs": [
    {
     "data": {
      "text/plain": [
       "7059"
      ]
     },
     "execution_count": 54,
     "metadata": {},
     "output_type": "execute_result"
    }
   ],
   "source": [
    "# Count total words from tokenizer\n",
    "len(tokenizer.word_index)"
   ]
  },
  {
   "cell_type": "code",
   "execution_count": 55,
   "id": "89d1f798-1557-48ec-8dcc-8c5f2170139b",
   "metadata": {
    "tags": []
   },
   "outputs": [],
   "source": [
    "sequences = tokenizer.texts_to_sequences(list(df['tweet']))\n",
    "padded = pad_sequences(sequences, maxlen=128, padding='post', truncating='post')"
   ]
  },
  {
   "cell_type": "code",
   "execution_count": 56,
   "id": "b8924bcd-e3ac-41e2-955b-c6b32a8c19ba",
   "metadata": {
    "tags": []
   },
   "outputs": [
    {
     "data": {
      "text/plain": [
       "array([[ 137,   15,   18, ...,    0,    0,    0],\n",
       "       [3061, 2055, 2056, ...,    0,    0,    0],\n",
       "       [   7,  138,    5, ...,    0,    0,    0],\n",
       "       ...,\n",
       "       [ 794,  363,   94, ...,    0,    0,    0],\n",
       "       [1999, 7058,   87, ...,    0,    0,    0],\n",
       "       [   8,  875,  350, ...,    0,    0,    0]])"
      ]
     },
     "execution_count": 56,
     "metadata": {},
     "output_type": "execute_result"
    }
   ],
   "source": [
    "padded"
   ]
  },
  {
   "cell_type": "code",
   "execution_count": 57,
   "id": "1fad8359-e326-4fcb-8d0d-cbe91196961d",
   "metadata": {
    "tags": []
   },
   "outputs": [
    {
     "data": {
      "text/plain": [
       "(1815, 128)"
      ]
     },
     "execution_count": 57,
     "metadata": {},
     "output_type": "execute_result"
    }
   ],
   "source": [
    "padded.shape"
   ]
  },
  {
   "cell_type": "code",
   "execution_count": 58,
   "id": "5e233fcf-c560-4b3a-a4eb-ea8bf9561ea9",
   "metadata": {
    "tags": []
   },
   "outputs": [
    {
     "data": {
      "text/plain": [
       "128"
      ]
     },
     "execution_count": 58,
     "metadata": {},
     "output_type": "execute_result"
    }
   ],
   "source": [
    "pad_length = len(padded[0])\n",
    "pad_length"
   ]
  },
  {
   "cell_type": "markdown",
   "id": "46e4217a-167a-4967-82a9-8d5a5bb12f81",
   "metadata": {},
   "source": [
    "## Splitting Data"
   ]
  },
  {
   "cell_type": "markdown",
   "id": "0ae2c12d-8bc0-4a0d-bda7-23cf98668424",
   "metadata": {},
   "source": [
    "<b>Define X and Y</b>"
   ]
  },
  {
   "cell_type": "code",
   "execution_count": 59,
   "id": "6164f9b0-d067-4913-9c7f-3453f50c2625",
   "metadata": {
    "tags": []
   },
   "outputs": [],
   "source": [
    "X = padded\n",
    "y = np.array(df['sentimen_labels'])"
   ]
  },
  {
   "cell_type": "markdown",
   "id": "9b6b643e-5f5c-4145-9b46-e8a76ff362b8",
   "metadata": {},
   "source": [
    "<b>Split Data by 85% training, 10% validation, and 5% testing</b>"
   ]
  },
  {
   "cell_type": "code",
   "execution_count": 61,
   "id": "0652a8a9-e828-4b02-84ce-8b0276ae6f60",
   "metadata": {
    "tags": []
   },
   "outputs": [],
   "source": [
    "from sklearn.model_selection import train_test_split\n",
    "\n",
    "# Split data into train 90% and test 10%\n",
    "X_train, X_test, y_train, y_test = train_test_split(X, y, test_size=0.05, random_state=42)\n",
    "\n",
    "# Split again train data into train 80% and val 10%\n",
    "X_train, X_val, y_train, y_val = train_test_split(X_train, y_train, test_size=0.1, random_state=42)"
   ]
  },
  {
   "cell_type": "code",
   "execution_count": 62,
   "id": "ed93c5df-0f11-4df4-8953-25dc6be21cb4",
   "metadata": {
    "tags": []
   },
   "outputs": [
    {
     "data": {
      "text/plain": [
       "(1551, 128)"
      ]
     },
     "execution_count": 62,
     "metadata": {},
     "output_type": "execute_result"
    }
   ],
   "source": [
    "X_train.shape"
   ]
  },
  {
   "cell_type": "code",
   "execution_count": 63,
   "id": "cf414a46-95d8-456c-a675-c47accf26bf9",
   "metadata": {
    "tags": []
   },
   "outputs": [
    {
     "data": {
      "text/plain": [
       "(173, 128)"
      ]
     },
     "execution_count": 63,
     "metadata": {},
     "output_type": "execute_result"
    }
   ],
   "source": [
    "X_val.shape"
   ]
  },
  {
   "cell_type": "code",
   "execution_count": 64,
   "id": "ffae6a08-92d9-4403-a44e-4b10631a9eb6",
   "metadata": {
    "tags": []
   },
   "outputs": [
    {
     "data": {
      "text/plain": [
       "(91, 128)"
      ]
     },
     "execution_count": 64,
     "metadata": {},
     "output_type": "execute_result"
    }
   ],
   "source": [
    "X_test.shape"
   ]
  },
  {
   "cell_type": "markdown",
   "id": "05d33254-c9d2-474f-8333-c3f2c914233a",
   "metadata": {},
   "source": [
    "## Modeling"
   ]
  },
  {
   "cell_type": "code",
   "execution_count": 65,
   "id": "ed62f4b5-ca37-4b7b-80e0-a99aa4717d56",
   "metadata": {
    "tags": []
   },
   "outputs": [],
   "source": [
    "import tensorflow as tf"
   ]
  },
  {
   "cell_type": "markdown",
   "id": "8b9461a9-3c58-4fa7-981e-3bdd3ac802fe",
   "metadata": {
    "tags": []
   },
   "source": [
    "<b>Build a Transformer Encoder model achitecture</b>"
   ]
  },
  {
   "cell_type": "code",
   "execution_count": 66,
   "id": "280bd352-887e-4e87-b413-c7043fbacb13",
   "metadata": {
    "tags": []
   },
   "outputs": [],
   "source": [
    "# Create positional encoding\n",
    "def positional_encoding(max_seq_len, d_model):\n",
    "    angle_rads = get_angles(np.arange(max_seq_len)[:, np.newaxis], np.arange(d_model)[np.newaxis, :], d_model)\n",
    "    angle_rads[:, 0::2] = np.sin(angle_rads[:, 0::2])\n",
    "    angle_rads[:, 1::2] = np.cos(angle_rads[:, 1::2])\n",
    "    pos_encoding = angle_rads[np.newaxis, ...]\n",
    "    return tf.cast(pos_encoding, dtype=tf.float32)\n",
    "\n",
    "# Get positional angles\n",
    "def get_angles(pos, i, d_model):\n",
    "    angle_rates = 1 / np.power(10000, (2 * (i // 2)) / np.float32(d_model))\n",
    "    return pos * angle_rates"
   ]
  },
  {
   "cell_type": "code",
   "execution_count": 67,
   "id": "938243b4-cf13-40c1-9172-d983693c79d4",
   "metadata": {
    "tags": []
   },
   "outputs": [],
   "source": [
    "# Scaled dot-product attention\n",
    "def scaled_dot_product_attention(q, k, v, mask):\n",
    "    matmul_qk = tf.matmul(q, k, transpose_b=True)\n",
    "    d_k = tf.cast(tf.shape(k)[-1], tf.float32)\n",
    "    scaled_attention_logits = matmul_qk / tf.math.sqrt(d_k)\n",
    "    if mask is not None:\n",
    "        scaled_attention_logits += (mask * -1e9)\n",
    "    attention_weights = tf.nn.softmax(scaled_attention_logits, axis=-1)\n",
    "    output = tf.matmul(attention_weights, v)\n",
    "    return output, attention_weights\n",
    "\n",
    "# Multi-head Attention\n",
    "def multi_head_attention(v, k, q, mask, d_model, num_heads):\n",
    "    batch_size = tf.shape(q)[0]\n",
    "    q = tf.keras.layers.Dense(d_model)(q)\n",
    "    k = tf.keras.layers.Dense(d_model)(k)\n",
    "    v = tf.keras.layers.Dense(d_model)(v)\n",
    "    q = tf.reshape(q, (batch_size, -1, num_heads, d_model // num_heads))\n",
    "    k = tf.reshape(k, (batch_size, -1, num_heads, d_model // num_heads))\n",
    "    v = tf.reshape(v, (batch_size, -1, num_heads, d_model // num_heads))\n",
    "    q = tf.transpose(q, perm=[0, 2, 1, 3])\n",
    "    k = tf.transpose(k, perm=[0, 2, 1, 3])\n",
    "    v = tf.transpose(v, perm=[0, 2, 1, 3])\n",
    "    output, _ = scaled_dot_product_attention(q, k, v, mask)\n",
    "    output = tf.transpose(output, perm=[0, 2, 1, 3])\n",
    "    output = tf.reshape(output, (batch_size, -1, d_model))\n",
    "    return output"
   ]
  },
  {
   "cell_type": "code",
   "execution_count": 68,
   "id": "4c0f794c-e669-40f4-a4c8-d2d1803b8b9f",
   "metadata": {
    "tags": []
   },
   "outputs": [],
   "source": [
    "# Position-wise feed-forward network\n",
    "def feed_forward_network(x, d_model, dff):\n",
    "    x = tf.keras.layers.Dense(dff, activation='relu')(x)\n",
    "    x = tf.keras.layers.Dense(d_model)(x)\n",
    "    return x"
   ]
  },
  {
   "cell_type": "code",
   "execution_count": 69,
   "id": "8e80017e-0c3b-4ca2-8a0c-8811402c3b1f",
   "metadata": {
    "tags": []
   },
   "outputs": [],
   "source": [
    "# Encoder layer\n",
    "def encoder_layer(x, d_model, num_heads, dff, mask):\n",
    "    attention_output = multi_head_attention(x, x, x, mask, d_model, num_heads)\n",
    "    attention_output = tf.keras.layers.Dropout(0.1)(attention_output)\n",
    "    output1 = tf.keras.layers.LayerNormalization(epsilon=1e-6)(x + attention_output)\n",
    "    ffn_output = feed_forward_network(output1, d_model, dff)\n",
    "    ffn_output = tf.keras.layers.Dropout(0.1)(ffn_output)\n",
    "    output2 = tf.keras.layers.LayerNormalization(epsilon=1e-6)(output1 + ffn_output)\n",
    "    return output2\n",
    "\n",
    "# Encoder\n",
    "def encoder(x, num_layers, d_model, num_heads, dff, mask):\n",
    "    for _ in range(num_layers):\n",
    "        x = encoder_layer(x, d_model, num_heads, dff, mask)\n",
    "    return x"
   ]
  },
  {
   "cell_type": "code",
   "execution_count": 70,
   "id": "a8072927-9268-4209-9495-66981bc3f4db",
   "metadata": {
    "tags": []
   },
   "outputs": [],
   "source": [
    "# Masking for padding tokens\n",
    "def create_padding_mask(seq):\n",
    "    seq = tf.cast(tf.math.equal(seq, 0), tf.float32)\n",
    "    return seq[:, tf.newaxis, tf.newaxis, :]"
   ]
  },
  {
   "cell_type": "code",
   "execution_count": 71,
   "id": "7ecb85e9-da8a-4691-a19a-4b1e0fa678ea",
   "metadata": {
    "tags": []
   },
   "outputs": [],
   "source": [
    "# Transformer model\n",
    "def transformer_model(input_shape, num_layers, d_model, num_heads, dff, vocab_size, maxlen):\n",
    "    inputs = tf.keras.layers.Input(shape=input_shape)\n",
    "    mask = tf.keras.layers.Lambda(lambda x: create_padding_mask(x))(inputs)\n",
    "    x = tf.keras.layers.Embedding(input_dim=vocab_size, output_dim=d_model)(inputs)\n",
    "    x *= tf.math.sqrt(tf.cast(d_model, tf.float32))\n",
    "    x += positional_encoding(maxlen, d_model)\n",
    "    x = tf.keras.layers.Dropout(0.1)(x)\n",
    "    x = encoder(x, num_layers, d_model, num_heads, dff, mask)\n",
    "    x = tf.keras.layers.Dropout(0.2)(x)\n",
    "    x = tf.keras.layers.GlobalAveragePooling1D()(x)\n",
    "    outputs = tf.keras.layers.Dense(3, activation='softmax')(x)\n",
    "    model = tf.keras.models.Model(inputs, outputs)\n",
    "    return model"
   ]
  },
  {
   "cell_type": "code",
   "execution_count": 72,
   "id": "ffc4610f-5af4-49dc-a278-0dfd09b9d65d",
   "metadata": {
    "tags": []
   },
   "outputs": [],
   "source": [
    "# Initialize hyperparameters\n",
    "maxlen = 128             # maximum sequence length\n",
    "vocab_size = 10000       # vocabulary size\n",
    "num_layers = 4           # Num of Encoder layers\n",
    "d_model = 128            # Neuron units of Attentions\n",
    "num_heads = 8            # Num of Attention heads\n",
    "dff = 512                # Neuron units of Feedforward"
   ]
  },
  {
   "cell_type": "code",
   "execution_count": 73,
   "id": "955a3ba6-6d1f-4b56-943d-b3a430d3ed1a",
   "metadata": {
    "tags": []
   },
   "outputs": [],
   "source": [
    "# Build the model\n",
    "input_shape = (maxlen,)\n",
    "model = transformer_model(input_shape, num_layers, d_model, num_heads, dff, vocab_size, maxlen)"
   ]
  },
  {
   "cell_type": "code",
   "execution_count": 74,
   "id": "0ace0590-0a7c-4697-b87d-5c009515fa04",
   "metadata": {
    "scrolled": true,
    "tags": []
   },
   "outputs": [
    {
     "name": "stdout",
     "output_type": "stream",
     "text": [
      "Model: \"model\"\n",
      "__________________________________________________________________________________________________\n",
      " Layer (type)                   Output Shape         Param #     Connected to                     \n",
      "==================================================================================================\n",
      " input_1 (InputLayer)           [(None, 128)]        0           []                               \n",
      "                                                                                                  \n",
      " embedding (Embedding)          (None, 128, 128)     1280000     ['input_1[0][0]']                \n",
      "                                                                                                  \n",
      " tf.math.multiply (TFOpLambda)  (None, 128, 128)     0           ['embedding[0][0]']              \n",
      "                                                                                                  \n",
      " tf.__operators__.add (TFOpLamb  (None, 128, 128)    0           ['tf.math.multiply[0][0]']       \n",
      " da)                                                                                              \n",
      "                                                                                                  \n",
      " dropout (Dropout)              (None, 128, 128)     0           ['tf.__operators__.add[0][0]']   \n",
      "                                                                                                  \n",
      " tf.compat.v1.shape (TFOpLambda  (3,)                0           ['dropout[0][0]']                \n",
      " )                                                                                                \n",
      "                                                                                                  \n",
      " tf.__operators__.getitem (Slic  ()                  0           ['tf.compat.v1.shape[0][0]']     \n",
      " ingOpLambda)                                                                                     \n",
      "                                                                                                  \n",
      " dense_1 (Dense)                (None, 128, 128)     16512       ['dropout[0][0]']                \n",
      "                                                                                                  \n",
      " tf.reshape_1 (TFOpLambda)      (None, None, 8, 16)  0           ['dense_1[0][0]',                \n",
      "                                                                  'tf.__operators__.getitem[0][0]'\n",
      "                                                                 ]                                \n",
      "                                                                                                  \n",
      " tf.compat.v1.transpose_1 (TFOp  (None, 8, None, 16)  0          ['tf.reshape_1[0][0]']           \n",
      " Lambda)                                                                                          \n",
      "                                                                                                  \n",
      " dense (Dense)                  (None, 128, 128)     16512       ['dropout[0][0]']                \n",
      "                                                                                                  \n",
      " tf.compat.v1.shape_1 (TFOpLamb  (4,)                0           ['tf.compat.v1.transpose_1[0][0]'\n",
      " da)                                                             ]                                \n",
      "                                                                                                  \n",
      " tf.reshape (TFOpLambda)        (None, None, 8, 16)  0           ['dense[0][0]',                  \n",
      "                                                                  'tf.__operators__.getitem[0][0]'\n",
      "                                                                 ]                                \n",
      "                                                                                                  \n",
      " tf.__operators__.getitem_1 (Sl  ()                  0           ['tf.compat.v1.shape_1[0][0]']   \n",
      " icingOpLambda)                                                                                   \n",
      "                                                                                                  \n",
      " tf.compat.v1.transpose (TFOpLa  (None, 8, None, 16)  0          ['tf.reshape[0][0]']             \n",
      " mbda)                                                                                            \n",
      "                                                                                                  \n",
      " tf.cast (TFOpLambda)           ()                   0           ['tf.__operators__.getitem_1[0][0\n",
      "                                                                 ]']                              \n",
      "                                                                                                  \n",
      " tf.linalg.matmul (TFOpLambda)  (None, 8, None, Non  0           ['tf.compat.v1.transpose[0][0]', \n",
      "                                e)                                'tf.compat.v1.transpose_1[0][0]'\n",
      "                                                                 ]                                \n",
      "                                                                                                  \n",
      " tf.math.sqrt (TFOpLambda)      ()                   0           ['tf.cast[0][0]']                \n",
      "                                                                                                  \n",
      " lambda (Lambda)                (None, 1, 1, 128)    0           ['input_1[0][0]']                \n",
      "                                                                                                  \n",
      " tf.math.truediv (TFOpLambda)   (None, 8, None, Non  0           ['tf.linalg.matmul[0][0]',       \n",
      "                                e)                                'tf.math.sqrt[0][0]']           \n",
      "                                                                                                  \n",
      " tf.math.multiply_1 (TFOpLambda  (None, 1, 1, 128)   0           ['lambda[0][0]']                 \n",
      " )                                                                                                \n",
      "                                                                                                  \n",
      " dense_2 (Dense)                (None, 128, 128)     16512       ['dropout[0][0]']                \n",
      "                                                                                                  \n",
      " tf.__operators__.add_1 (TFOpLa  (None, 8, None, 128  0          ['tf.math.truediv[0][0]',        \n",
      " mbda)                          )                                 'tf.math.multiply_1[0][0]']     \n",
      "                                                                                                  \n",
      " tf.reshape_2 (TFOpLambda)      (None, None, 8, 16)  0           ['dense_2[0][0]',                \n",
      "                                                                  'tf.__operators__.getitem[0][0]'\n",
      "                                                                 ]                                \n",
      "                                                                                                  \n",
      " tf.nn.softmax (TFOpLambda)     (None, 8, None, 128  0           ['tf.__operators__.add_1[0][0]'] \n",
      "                                )                                                                 \n",
      "                                                                                                  \n",
      " tf.compat.v1.transpose_2 (TFOp  (None, 8, None, 16)  0          ['tf.reshape_2[0][0]']           \n",
      " Lambda)                                                                                          \n",
      "                                                                                                  \n",
      " tf.linalg.matmul_1 (TFOpLambda  (None, 8, None, 16)  0          ['tf.nn.softmax[0][0]',          \n",
      " )                                                                'tf.compat.v1.transpose_2[0][0]'\n",
      "                                                                 ]                                \n",
      "                                                                                                  \n",
      " tf.compat.v1.transpose_3 (TFOp  (None, None, 8, 16)  0          ['tf.linalg.matmul_1[0][0]']     \n",
      " Lambda)                                                                                          \n",
      "                                                                                                  \n",
      " tf.reshape_3 (TFOpLambda)      (None, None, 128)    0           ['tf.compat.v1.transpose_3[0][0]'\n",
      "                                                                 , 'tf.__operators__.getitem[0][0]\n",
      "                                                                 ']                               \n",
      "                                                                                                  \n",
      " dropout_1 (Dropout)            (None, None, 128)    0           ['tf.reshape_3[0][0]']           \n",
      "                                                                                                  \n",
      " tf.__operators__.add_2 (TFOpLa  (None, 128, 128)    0           ['dropout[0][0]',                \n",
      " mbda)                                                            'dropout_1[0][0]']              \n",
      "                                                                                                  \n",
      " layer_normalization (LayerNorm  (None, 128, 128)    256         ['tf.__operators__.add_2[0][0]'] \n",
      " alization)                                                                                       \n",
      "                                                                                                  \n",
      " dense_3 (Dense)                (None, 128, 512)     66048       ['layer_normalization[0][0]']    \n",
      "                                                                                                  \n",
      " dense_4 (Dense)                (None, 128, 128)     65664       ['dense_3[0][0]']                \n",
      "                                                                                                  \n",
      " dropout_2 (Dropout)            (None, 128, 128)     0           ['dense_4[0][0]']                \n",
      "                                                                                                  \n",
      " tf.__operators__.add_3 (TFOpLa  (None, 128, 128)    0           ['layer_normalization[0][0]',    \n",
      " mbda)                                                            'dropout_2[0][0]']              \n",
      "                                                                                                  \n",
      " layer_normalization_1 (LayerNo  (None, 128, 128)    256         ['tf.__operators__.add_3[0][0]'] \n",
      " rmalization)                                                                                     \n",
      "                                                                                                  \n",
      " tf.compat.v1.shape_2 (TFOpLamb  (3,)                0           ['layer_normalization_1[0][0]']  \n",
      " da)                                                                                              \n",
      "                                                                                                  \n",
      " tf.__operators__.getitem_2 (Sl  ()                  0           ['tf.compat.v1.shape_2[0][0]']   \n",
      " icingOpLambda)                                                                                   \n",
      "                                                                                                  \n",
      " dense_6 (Dense)                (None, 128, 128)     16512       ['layer_normalization_1[0][0]']  \n",
      "                                                                                                  \n",
      " tf.reshape_5 (TFOpLambda)      (None, None, 8, 16)  0           ['dense_6[0][0]',                \n",
      "                                                                  'tf.__operators__.getitem_2[0][0\n",
      "                                                                 ]']                              \n",
      "                                                                                                  \n",
      " tf.compat.v1.transpose_5 (TFOp  (None, 8, None, 16)  0          ['tf.reshape_5[0][0]']           \n",
      " Lambda)                                                                                          \n",
      "                                                                                                  \n",
      " dense_5 (Dense)                (None, 128, 128)     16512       ['layer_normalization_1[0][0]']  \n",
      "                                                                                                  \n",
      " tf.compat.v1.shape_3 (TFOpLamb  (4,)                0           ['tf.compat.v1.transpose_5[0][0]'\n",
      " da)                                                             ]                                \n",
      "                                                                                                  \n",
      " tf.reshape_4 (TFOpLambda)      (None, None, 8, 16)  0           ['dense_5[0][0]',                \n",
      "                                                                  'tf.__operators__.getitem_2[0][0\n",
      "                                                                 ]']                              \n",
      "                                                                                                  \n",
      " tf.__operators__.getitem_3 (Sl  ()                  0           ['tf.compat.v1.shape_3[0][0]']   \n",
      " icingOpLambda)                                                                                   \n",
      "                                                                                                  \n",
      " tf.compat.v1.transpose_4 (TFOp  (None, 8, None, 16)  0          ['tf.reshape_4[0][0]']           \n",
      " Lambda)                                                                                          \n",
      "                                                                                                  \n",
      " tf.cast_1 (TFOpLambda)         ()                   0           ['tf.__operators__.getitem_3[0][0\n",
      "                                                                 ]']                              \n",
      "                                                                                                  \n",
      " tf.linalg.matmul_2 (TFOpLambda  (None, 8, None, Non  0          ['tf.compat.v1.transpose_4[0][0]'\n",
      " )                              e)                               , 'tf.compat.v1.transpose_5[0][0]\n",
      "                                                                 ']                               \n",
      "                                                                                                  \n",
      " tf.math.sqrt_1 (TFOpLambda)    ()                   0           ['tf.cast_1[0][0]']              \n",
      "                                                                                                  \n",
      " tf.math.truediv_1 (TFOpLambda)  (None, 8, None, Non  0          ['tf.linalg.matmul_2[0][0]',     \n",
      "                                e)                                'tf.math.sqrt_1[0][0]']         \n",
      "                                                                                                  \n",
      " tf.math.multiply_2 (TFOpLambda  (None, 1, 1, 128)   0           ['lambda[0][0]']                 \n",
      " )                                                                                                \n",
      "                                                                                                  \n",
      " dense_7 (Dense)                (None, 128, 128)     16512       ['layer_normalization_1[0][0]']  \n",
      "                                                                                                  \n",
      " tf.__operators__.add_4 (TFOpLa  (None, 8, None, 128  0          ['tf.math.truediv_1[0][0]',      \n",
      " mbda)                          )                                 'tf.math.multiply_2[0][0]']     \n",
      "                                                                                                  \n",
      " tf.reshape_6 (TFOpLambda)      (None, None, 8, 16)  0           ['dense_7[0][0]',                \n",
      "                                                                  'tf.__operators__.getitem_2[0][0\n",
      "                                                                 ]']                              \n",
      "                                                                                                  \n",
      " tf.nn.softmax_1 (TFOpLambda)   (None, 8, None, 128  0           ['tf.__operators__.add_4[0][0]'] \n",
      "                                )                                                                 \n",
      "                                                                                                  \n",
      " tf.compat.v1.transpose_6 (TFOp  (None, 8, None, 16)  0          ['tf.reshape_6[0][0]']           \n",
      " Lambda)                                                                                          \n",
      "                                                                                                  \n",
      " tf.linalg.matmul_3 (TFOpLambda  (None, 8, None, 16)  0          ['tf.nn.softmax_1[0][0]',        \n",
      " )                                                                'tf.compat.v1.transpose_6[0][0]'\n",
      "                                                                 ]                                \n",
      "                                                                                                  \n",
      " tf.compat.v1.transpose_7 (TFOp  (None, None, 8, 16)  0          ['tf.linalg.matmul_3[0][0]']     \n",
      " Lambda)                                                                                          \n",
      "                                                                                                  \n",
      " tf.reshape_7 (TFOpLambda)      (None, None, 128)    0           ['tf.compat.v1.transpose_7[0][0]'\n",
      "                                                                 , 'tf.__operators__.getitem_2[0][\n",
      "                                                                 0]']                             \n",
      "                                                                                                  \n",
      " dropout_3 (Dropout)            (None, None, 128)    0           ['tf.reshape_7[0][0]']           \n",
      "                                                                                                  \n",
      " tf.__operators__.add_5 (TFOpLa  (None, 128, 128)    0           ['layer_normalization_1[0][0]',  \n",
      " mbda)                                                            'dropout_3[0][0]']              \n",
      "                                                                                                  \n",
      " layer_normalization_2 (LayerNo  (None, 128, 128)    256         ['tf.__operators__.add_5[0][0]'] \n",
      " rmalization)                                                                                     \n",
      "                                                                                                  \n",
      " dense_8 (Dense)                (None, 128, 512)     66048       ['layer_normalization_2[0][0]']  \n",
      "                                                                                                  \n",
      " dense_9 (Dense)                (None, 128, 128)     65664       ['dense_8[0][0]']                \n",
      "                                                                                                  \n",
      " dropout_4 (Dropout)            (None, 128, 128)     0           ['dense_9[0][0]']                \n",
      "                                                                                                  \n",
      " tf.__operators__.add_6 (TFOpLa  (None, 128, 128)    0           ['layer_normalization_2[0][0]',  \n",
      " mbda)                                                            'dropout_4[0][0]']              \n",
      "                                                                                                  \n",
      " layer_normalization_3 (LayerNo  (None, 128, 128)    256         ['tf.__operators__.add_6[0][0]'] \n",
      " rmalization)                                                                                     \n",
      "                                                                                                  \n",
      " tf.compat.v1.shape_4 (TFOpLamb  (3,)                0           ['layer_normalization_3[0][0]']  \n",
      " da)                                                                                              \n",
      "                                                                                                  \n",
      " tf.__operators__.getitem_4 (Sl  ()                  0           ['tf.compat.v1.shape_4[0][0]']   \n",
      " icingOpLambda)                                                                                   \n",
      "                                                                                                  \n",
      " dense_11 (Dense)               (None, 128, 128)     16512       ['layer_normalization_3[0][0]']  \n",
      "                                                                                                  \n",
      " tf.reshape_9 (TFOpLambda)      (None, None, 8, 16)  0           ['dense_11[0][0]',               \n",
      "                                                                  'tf.__operators__.getitem_4[0][0\n",
      "                                                                 ]']                              \n",
      "                                                                                                  \n",
      " tf.compat.v1.transpose_9 (TFOp  (None, 8, None, 16)  0          ['tf.reshape_9[0][0]']           \n",
      " Lambda)                                                                                          \n",
      "                                                                                                  \n",
      " dense_10 (Dense)               (None, 128, 128)     16512       ['layer_normalization_3[0][0]']  \n",
      "                                                                                                  \n",
      " tf.compat.v1.shape_5 (TFOpLamb  (4,)                0           ['tf.compat.v1.transpose_9[0][0]'\n",
      " da)                                                             ]                                \n",
      "                                                                                                  \n",
      " tf.reshape_8 (TFOpLambda)      (None, None, 8, 16)  0           ['dense_10[0][0]',               \n",
      "                                                                  'tf.__operators__.getitem_4[0][0\n",
      "                                                                 ]']                              \n",
      "                                                                                                  \n",
      " tf.__operators__.getitem_5 (Sl  ()                  0           ['tf.compat.v1.shape_5[0][0]']   \n",
      " icingOpLambda)                                                                                   \n",
      "                                                                                                  \n",
      " tf.compat.v1.transpose_8 (TFOp  (None, 8, None, 16)  0          ['tf.reshape_8[0][0]']           \n",
      " Lambda)                                                                                          \n",
      "                                                                                                  \n",
      " tf.cast_2 (TFOpLambda)         ()                   0           ['tf.__operators__.getitem_5[0][0\n",
      "                                                                 ]']                              \n",
      "                                                                                                  \n",
      " tf.linalg.matmul_4 (TFOpLambda  (None, 8, None, Non  0          ['tf.compat.v1.transpose_8[0][0]'\n",
      " )                              e)                               , 'tf.compat.v1.transpose_9[0][0]\n",
      "                                                                 ']                               \n",
      "                                                                                                  \n",
      " tf.math.sqrt_2 (TFOpLambda)    ()                   0           ['tf.cast_2[0][0]']              \n",
      "                                                                                                  \n",
      " tf.math.truediv_2 (TFOpLambda)  (None, 8, None, Non  0          ['tf.linalg.matmul_4[0][0]',     \n",
      "                                e)                                'tf.math.sqrt_2[0][0]']         \n",
      "                                                                                                  \n",
      " tf.math.multiply_3 (TFOpLambda  (None, 1, 1, 128)   0           ['lambda[0][0]']                 \n",
      " )                                                                                                \n",
      "                                                                                                  \n",
      " dense_12 (Dense)               (None, 128, 128)     16512       ['layer_normalization_3[0][0]']  \n",
      "                                                                                                  \n",
      " tf.__operators__.add_7 (TFOpLa  (None, 8, None, 128  0          ['tf.math.truediv_2[0][0]',      \n",
      " mbda)                          )                                 'tf.math.multiply_3[0][0]']     \n",
      "                                                                                                  \n",
      " tf.reshape_10 (TFOpLambda)     (None, None, 8, 16)  0           ['dense_12[0][0]',               \n",
      "                                                                  'tf.__operators__.getitem_4[0][0\n",
      "                                                                 ]']                              \n",
      "                                                                                                  \n",
      " tf.nn.softmax_2 (TFOpLambda)   (None, 8, None, 128  0           ['tf.__operators__.add_7[0][0]'] \n",
      "                                )                                                                 \n",
      "                                                                                                  \n",
      " tf.compat.v1.transpose_10 (TFO  (None, 8, None, 16)  0          ['tf.reshape_10[0][0]']          \n",
      " pLambda)                                                                                         \n",
      "                                                                                                  \n",
      " tf.linalg.matmul_5 (TFOpLambda  (None, 8, None, 16)  0          ['tf.nn.softmax_2[0][0]',        \n",
      " )                                                                'tf.compat.v1.transpose_10[0][0]\n",
      "                                                                 ']                               \n",
      "                                                                                                  \n",
      " tf.compat.v1.transpose_11 (TFO  (None, None, 8, 16)  0          ['tf.linalg.matmul_5[0][0]']     \n",
      " pLambda)                                                                                         \n",
      "                                                                                                  \n",
      " tf.reshape_11 (TFOpLambda)     (None, None, 128)    0           ['tf.compat.v1.transpose_11[0][0]\n",
      "                                                                 ',                               \n",
      "                                                                  'tf.__operators__.getitem_4[0][0\n",
      "                                                                 ]']                              \n",
      "                                                                                                  \n",
      " dropout_5 (Dropout)            (None, None, 128)    0           ['tf.reshape_11[0][0]']          \n",
      "                                                                                                  \n",
      " tf.__operators__.add_8 (TFOpLa  (None, 128, 128)    0           ['layer_normalization_3[0][0]',  \n",
      " mbda)                                                            'dropout_5[0][0]']              \n",
      "                                                                                                  \n",
      " layer_normalization_4 (LayerNo  (None, 128, 128)    256         ['tf.__operators__.add_8[0][0]'] \n",
      " rmalization)                                                                                     \n",
      "                                                                                                  \n",
      " dense_13 (Dense)               (None, 128, 512)     66048       ['layer_normalization_4[0][0]']  \n",
      "                                                                                                  \n",
      " dense_14 (Dense)               (None, 128, 128)     65664       ['dense_13[0][0]']               \n",
      "                                                                                                  \n",
      " dropout_6 (Dropout)            (None, 128, 128)     0           ['dense_14[0][0]']               \n",
      "                                                                                                  \n",
      " tf.__operators__.add_9 (TFOpLa  (None, 128, 128)    0           ['layer_normalization_4[0][0]',  \n",
      " mbda)                                                            'dropout_6[0][0]']              \n",
      "                                                                                                  \n",
      " layer_normalization_5 (LayerNo  (None, 128, 128)    256         ['tf.__operators__.add_9[0][0]'] \n",
      " rmalization)                                                                                     \n",
      "                                                                                                  \n",
      " tf.compat.v1.shape_6 (TFOpLamb  (3,)                0           ['layer_normalization_5[0][0]']  \n",
      " da)                                                                                              \n",
      "                                                                                                  \n",
      " tf.__operators__.getitem_6 (Sl  ()                  0           ['tf.compat.v1.shape_6[0][0]']   \n",
      " icingOpLambda)                                                                                   \n",
      "                                                                                                  \n",
      " dense_16 (Dense)               (None, 128, 128)     16512       ['layer_normalization_5[0][0]']  \n",
      "                                                                                                  \n",
      " tf.reshape_13 (TFOpLambda)     (None, None, 8, 16)  0           ['dense_16[0][0]',               \n",
      "                                                                  'tf.__operators__.getitem_6[0][0\n",
      "                                                                 ]']                              \n",
      "                                                                                                  \n",
      " tf.compat.v1.transpose_13 (TFO  (None, 8, None, 16)  0          ['tf.reshape_13[0][0]']          \n",
      " pLambda)                                                                                         \n",
      "                                                                                                  \n",
      " dense_15 (Dense)               (None, 128, 128)     16512       ['layer_normalization_5[0][0]']  \n",
      "                                                                                                  \n",
      " tf.compat.v1.shape_7 (TFOpLamb  (4,)                0           ['tf.compat.v1.transpose_13[0][0]\n",
      " da)                                                             ']                               \n",
      "                                                                                                  \n",
      " tf.reshape_12 (TFOpLambda)     (None, None, 8, 16)  0           ['dense_15[0][0]',               \n",
      "                                                                  'tf.__operators__.getitem_6[0][0\n",
      "                                                                 ]']                              \n",
      "                                                                                                  \n",
      " tf.__operators__.getitem_7 (Sl  ()                  0           ['tf.compat.v1.shape_7[0][0]']   \n",
      " icingOpLambda)                                                                                   \n",
      "                                                                                                  \n",
      " tf.compat.v1.transpose_12 (TFO  (None, 8, None, 16)  0          ['tf.reshape_12[0][0]']          \n",
      " pLambda)                                                                                         \n",
      "                                                                                                  \n",
      " tf.cast_3 (TFOpLambda)         ()                   0           ['tf.__operators__.getitem_7[0][0\n",
      "                                                                 ]']                              \n",
      "                                                                                                  \n",
      " tf.linalg.matmul_6 (TFOpLambda  (None, 8, None, Non  0          ['tf.compat.v1.transpose_12[0][0]\n",
      " )                              e)                               ',                               \n",
      "                                                                  'tf.compat.v1.transpose_13[0][0]\n",
      "                                                                 ']                               \n",
      "                                                                                                  \n",
      " tf.math.sqrt_3 (TFOpLambda)    ()                   0           ['tf.cast_3[0][0]']              \n",
      "                                                                                                  \n",
      " tf.math.truediv_3 (TFOpLambda)  (None, 8, None, Non  0          ['tf.linalg.matmul_6[0][0]',     \n",
      "                                e)                                'tf.math.sqrt_3[0][0]']         \n",
      "                                                                                                  \n",
      " tf.math.multiply_4 (TFOpLambda  (None, 1, 1, 128)   0           ['lambda[0][0]']                 \n",
      " )                                                                                                \n",
      "                                                                                                  \n",
      " dense_17 (Dense)               (None, 128, 128)     16512       ['layer_normalization_5[0][0]']  \n",
      "                                                                                                  \n",
      " tf.__operators__.add_10 (TFOpL  (None, 8, None, 128  0          ['tf.math.truediv_3[0][0]',      \n",
      " ambda)                         )                                 'tf.math.multiply_4[0][0]']     \n",
      "                                                                                                  \n",
      " tf.reshape_14 (TFOpLambda)     (None, None, 8, 16)  0           ['dense_17[0][0]',               \n",
      "                                                                  'tf.__operators__.getitem_6[0][0\n",
      "                                                                 ]']                              \n",
      "                                                                                                  \n",
      " tf.nn.softmax_3 (TFOpLambda)   (None, 8, None, 128  0           ['tf.__operators__.add_10[0][0]']\n",
      "                                )                                                                 \n",
      "                                                                                                  \n",
      " tf.compat.v1.transpose_14 (TFO  (None, 8, None, 16)  0          ['tf.reshape_14[0][0]']          \n",
      " pLambda)                                                                                         \n",
      "                                                                                                  \n",
      " tf.linalg.matmul_7 (TFOpLambda  (None, 8, None, 16)  0          ['tf.nn.softmax_3[0][0]',        \n",
      " )                                                                'tf.compat.v1.transpose_14[0][0]\n",
      "                                                                 ']                               \n",
      "                                                                                                  \n",
      " tf.compat.v1.transpose_15 (TFO  (None, None, 8, 16)  0          ['tf.linalg.matmul_7[0][0]']     \n",
      " pLambda)                                                                                         \n",
      "                                                                                                  \n",
      " tf.reshape_15 (TFOpLambda)     (None, None, 128)    0           ['tf.compat.v1.transpose_15[0][0]\n",
      "                                                                 ',                               \n",
      "                                                                  'tf.__operators__.getitem_6[0][0\n",
      "                                                                 ]']                              \n",
      "                                                                                                  \n",
      " dropout_7 (Dropout)            (None, None, 128)    0           ['tf.reshape_15[0][0]']          \n",
      "                                                                                                  \n",
      " tf.__operators__.add_11 (TFOpL  (None, 128, 128)    0           ['layer_normalization_5[0][0]',  \n",
      " ambda)                                                           'dropout_7[0][0]']              \n",
      "                                                                                                  \n",
      " layer_normalization_6 (LayerNo  (None, 128, 128)    256         ['tf.__operators__.add_11[0][0]']\n",
      " rmalization)                                                                                     \n",
      "                                                                                                  \n",
      " dense_18 (Dense)               (None, 128, 512)     66048       ['layer_normalization_6[0][0]']  \n",
      "                                                                                                  \n",
      " dense_19 (Dense)               (None, 128, 128)     65664       ['dense_18[0][0]']               \n",
      "                                                                                                  \n",
      " dropout_8 (Dropout)            (None, 128, 128)     0           ['dense_19[0][0]']               \n",
      "                                                                                                  \n",
      " tf.__operators__.add_12 (TFOpL  (None, 128, 128)    0           ['layer_normalization_6[0][0]',  \n",
      " ambda)                                                           'dropout_8[0][0]']              \n",
      "                                                                                                  \n",
      " layer_normalization_7 (LayerNo  (None, 128, 128)    256         ['tf.__operators__.add_12[0][0]']\n",
      " rmalization)                                                                                     \n",
      "                                                                                                  \n",
      " dropout_9 (Dropout)            (None, 128, 128)     0           ['layer_normalization_7[0][0]']  \n",
      "                                                                                                  \n",
      " global_average_pooling1d (Glob  (None, 128)         0           ['dropout_9[0][0]']              \n",
      " alAveragePooling1D)                                                                              \n",
      "                                                                                                  \n",
      " dense_20 (Dense)               (None, 3)            387         ['global_average_pooling1d[0][0]'\n",
      "                                                                 ]                                \n",
      "                                                                                                  \n",
      "==================================================================================================\n",
      "Total params: 2,007,427\n",
      "Trainable params: 2,007,427\n",
      "Non-trainable params: 0\n",
      "__________________________________________________________________________________________________\n"
     ]
    }
   ],
   "source": [
    "model.summary()"
   ]
  },
  {
   "cell_type": "code",
   "execution_count": 75,
   "id": "c5ba4481-2c7f-46f2-a542-f66764651b5e",
   "metadata": {
    "tags": []
   },
   "outputs": [],
   "source": [
    "callback = tf.keras.callbacks.EarlyStopping(monitor = 'val_loss',\n",
    "                                            patience = 3,\n",
    "                                            restore_best_weights = False)"
   ]
  },
  {
   "cell_type": "code",
   "execution_count": 76,
   "id": "82212e99-2433-49c4-a19d-e76a4af0b44c",
   "metadata": {
    "tags": []
   },
   "outputs": [],
   "source": [
    "model.compile(optimizer = tf.keras.optimizers.Adam(learning_rate = 0.001),\n",
    "              loss = \"sparse_categorical_crossentropy\",\n",
    "              metrics = ['accuracy'])"
   ]
  },
  {
   "cell_type": "code",
   "execution_count": 77,
   "id": "03a5fc4d-d449-4d27-a691-084d9630124f",
   "metadata": {
    "tags": []
   },
   "outputs": [
    {
     "name": "stdout",
     "output_type": "stream",
     "text": [
      "Epoch 1/200\n",
      "49/49 [==============================] - 5s 41ms/step - loss: 1.3443 - accuracy: 0.3224 - val_loss: 1.1472 - val_accuracy: 0.3295\n",
      "Epoch 2/200\n",
      "49/49 [==============================] - 1s 28ms/step - loss: 1.1077 - accuracy: 0.3714 - val_loss: 1.0429 - val_accuracy: 0.4855\n",
      "Epoch 3/200\n",
      "49/49 [==============================] - 1s 28ms/step - loss: 0.8841 - accuracy: 0.5745 - val_loss: 1.1364 - val_accuracy: 0.4509\n",
      "Epoch 4/200\n",
      "49/49 [==============================] - 1s 28ms/step - loss: 0.4859 - accuracy: 0.8208 - val_loss: 1.3601 - val_accuracy: 0.6012\n",
      "Epoch 5/200\n",
      "49/49 [==============================] - 1s 29ms/step - loss: 0.1605 - accuracy: 0.9497 - val_loss: 1.3071 - val_accuracy: 0.6185\n"
     ]
    }
   ],
   "source": [
    "train_1 = model.fit(X_train, y_train,\n",
    "                    epochs=200,\n",
    "                    batch_size=32,\n",
    "                    validation_data=(X_val, y_val),\n",
    "                    callbacks=[callback])"
   ]
  },
  {
   "cell_type": "markdown",
   "id": "084d1f70-f557-40d3-94ac-a186efe45923",
   "metadata": {},
   "source": [
    "## Model Evaluation"
   ]
  },
  {
   "cell_type": "markdown",
   "id": "36948134-aa19-4947-9e8b-80a25a1b3f4c",
   "metadata": {},
   "source": [
    "<b>Evaluate validation data</b>"
   ]
  },
  {
   "cell_type": "code",
   "execution_count": 78,
   "id": "6b80f3a5-dadd-4217-adef-aaa7b5e85e63",
   "metadata": {
    "tags": []
   },
   "outputs": [
    {
     "name": "stdout",
     "output_type": "stream",
     "text": [
      "6/6 [==============================] - 0s 40ms/step - loss: 1.3071 - accuracy: 0.6185\n",
      "Validation Loss: 1.3071107864379883\n",
      "Validation Accuracy: 0.6184971332550049\n"
     ]
    }
   ],
   "source": [
    "val_loss, val_acc = model.evaluate(X_val, y_val)\n",
    "print(f\"Validation Loss: {val_loss}\")\n",
    "print(f\"Validation Accuracy: {val_acc}\")"
   ]
  },
  {
   "cell_type": "markdown",
   "id": "d793702b-db2e-4498-b1ad-83c657b3f11b",
   "metadata": {},
   "source": [
    "<b>Evaluate testing data</b><br>"
   ]
  },
  {
   "cell_type": "code",
   "execution_count": 79,
   "id": "4d14cda1-a4e6-4dab-a63f-8550ef217cf1",
   "metadata": {
    "tags": []
   },
   "outputs": [
    {
     "name": "stdout",
     "output_type": "stream",
     "text": [
      "3/3 [==============================] - 0s 79ms/step - loss: 1.2499 - accuracy: 0.6154\n",
      "Test Loss: 1.2499418258666992\n",
      "Test Accuracy: 0.6153846383094788\n"
     ]
    }
   ],
   "source": [
    "test_loss, test_acc = model.evaluate(X_test, y_test)\n",
    "print(f\"Test Loss: {test_loss}\")\n",
    "print(f\"Test Accuracy: {test_acc}\")"
   ]
  },
  {
   "cell_type": "markdown",
   "id": "19e5b385-8731-431d-9d1b-1b3a7fab3e98",
   "metadata": {},
   "source": [
    "<b>Visualize training model performace: loss</b>"
   ]
  },
  {
   "cell_type": "code",
   "execution_count": 80,
   "id": "efc21cfe-8dbb-4690-a95a-86568f07c1b7",
   "metadata": {
    "tags": []
   },
   "outputs": [
    {
     "data": {
      "image/png": "[encoded data removed]",
      "text/plain": [
       "<Figure size 640x480 with 1 Axes>"
      ]
     },
     "metadata": {},
     "output_type": "display_data"
    }
   ],
   "source": [
    "plt.plot(train_1.history[\"loss\"])\n",
    "plt.plot(train_1.history[\"val_loss\"])\n",
    "plt.title(\"Training Loss\")\n",
    "plt.ylabel(\"Loss\")\n",
    "plt.xlabel(\"Epoch\")\n",
    "plt.legend([\"Train\", \"Val\"])\n",
    "plt.show()"
   ]
  },
  {
   "cell_type": "markdown",
   "id": "b9e6c5b5-ab65-449c-ad07-0ab55631b3ef",
   "metadata": {},
   "source": [
    "<b>Visualize training model performace: accuracy</b>"
   ]
  },
  {
   "cell_type": "code",
   "execution_count": 81,
   "id": "91829055-f30e-4e9b-be86-c377fec8fc1a",
   "metadata": {
    "tags": []
   },
   "outputs": [
    {
     "data": {
      "image/png": "[encoded data removed]",
      "text/plain": [
       "<Figure size 640x480 with 1 Axes>"
      ]
     },
     "metadata": {},
     "output_type": "display_data"
    }
   ],
   "source": [
    "plt.plot(train_1.history[\"accuracy\"])\n",
    "plt.plot(train_1.history[\"val_accuracy\"])\n",
    "plt.title(\"Training Accuracy\")\n",
    "plt.ylabel(\"Accuracy\")\n",
    "plt.xlabel(\"Epoch\")\n",
    "plt.legend([\"Train\", \"Val\"])\n",
    "plt.show()"
   ]
  },
  {
   "cell_type": "markdown",
   "id": "990234c9-f057-43b4-8f17-1bb8df3a05d8",
   "metadata": {},
   "source": [
    "<b>Predict test data and compute evaluation score</b><br>\n",
    "Menguji model dengan data uji (testing) dan mengukurnya dengan 4 metrik evaluasi sebagai berikut:<br>\n",
    "- Accuracy Score: mengukur seberapa benar prediksi terhadap jumlah data uji\n",
    "- Precision Score: mengukur seberapa banyak label prediksi yang muncul pada data aktual (testing)\n",
    "- Recall Score: mengukur seberapa banyak label data aktual (testing) yang muncul pada prediksi\n",
    "- F1 Score: kombinasi rerata hasil dari Precision dan Recall"
   ]
  },
  {
   "cell_type": "code",
   "execution_count": 82,
   "id": "9d63ca68-8bc9-4e6f-8e39-e4195c94a39b",
   "metadata": {
    "tags": []
   },
   "outputs": [
    {
     "name": "stdout",
     "output_type": "stream",
     "text": [
      "3/3 [==============================] - 1s 113ms/step\n"
     ]
    }
   ],
   "source": [
    "pred = []\n",
    "y_pred = model.predict(X_test)\n",
    "for result in np.round(y_pred):\n",
    "    pred.append(np.argmax(result)) # convert one-hot result to integer\n",
    "y_pred = np.array(pred)"
   ]
  },
  {
   "cell_type": "code",
   "execution_count": 83,
   "id": "c34e938d-2d96-4324-8fbf-cedc280d5d06",
   "metadata": {
    "tags": []
   },
   "outputs": [
    {
     "name": "stdout",
     "output_type": "stream",
     "text": [
      "Accuracy Score: 0.6043956043956044\n",
      "Precision Score (per-class): [0.70967742 0.47368421 0.68181818]\n",
      "Recall Score (per-class): [0.66666667 0.7826087  0.42857143]\n",
      "F1 Score (per-class): [0.6875     0.59016393 0.52631579]\n"
     ]
    }
   ],
   "source": [
    "from sklearn.metrics import accuracy_score, precision_score, recall_score, f1_score\n",
    "\n",
    "print(\"Accuracy Score:\", accuracy_score(y_test, y_pred))\n",
    "print(\"Precision Score (per-class):\", precision_score(y_test, y_pred, average=None))\n",
    "print(\"Recall Score (per-class):\", recall_score(y_test, y_pred, average=None))\n",
    "print(\"F1 Score (per-class):\", f1_score(y_test, y_pred, average=None))"
   ]
  },
  {
   "cell_type": "markdown",
   "id": "2e65acaf-f60e-4ab8-9f60-a94e7cc159fe",
   "metadata": {},
   "source": [
    "<b>Visualize the evaluation with Confusion Matrix</b><br>\n",
    "Menampilkan hasil evaluasi berupa visualisasi Confusion Matrix"
   ]
  },
  {
   "cell_type": "code",
   "execution_count": 84,
   "id": "4f36f013-d4ad-45a7-bd30-26ab3fb209a0",
   "metadata": {
    "tags": []
   },
   "outputs": [
    {
     "data": {
      "image/png": "[encoded data removed]",
      "text/plain": [
       "<Figure size 640x480 with 2 Axes>"
      ]
     },
     "metadata": {},
     "output_type": "display_data"
    }
   ],
   "source": [
    "from sklearn.metrics import confusion_matrix, ConfusionMatrixDisplay\n",
    "\n",
    "cm = confusion_matrix(y_test, np.round(y_pred))\n",
    "disp = ConfusionMatrixDisplay(confusion_matrix=cm, display_labels=sentiment_mapping)\n",
    "disp.plot()\n",
    "plt.show()"
   ]
  },
  {
   "cell_type": "markdown",
   "id": "21b7b811-121a-4995-a6d7-0d5615b48684",
   "metadata": {},
   "source": [
    "#### Save model"
   ]
  },
  {
   "cell_type": "code",
   "execution_count": 85,
   "id": "75bf5e15-d75f-4f9d-ad9e-ab4ab8546f98",
   "metadata": {
    "tags": []
   },
   "outputs": [],
   "source": [
    "model.save('transformer_model_categorical.h5')"
   ]
  },
  {
   "cell_type": "code",
   "execution_count": null,
   "id": "f74ab38d-1fe5-4355-b437-65e25979eebc",
   "metadata": {},
   "outputs": [],
   "source": []
  }
 ],
 "metadata": {
  "kernelspec": {
   "display_name": "Python 3 (ipykernel)",
   "language": "python",
   "name": "python3"
  },
  "language_info": {
   "codemirror_mode": {
    "name": "ipython",
    "version": 3
   },
   "file_extension": ".py",
   "mimetype": "text/x-python",
   "name": "python",
   "nbconvert_exporter": "python",
   "pygments_lexer": "ipython3",
   "version": "3.10.11"
  }
 },
 "nbformat": 4,
 "nbformat_minor": 5
}
