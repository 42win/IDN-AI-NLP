{
 "cells": [
  {
   "cell_type": "code",
   "execution_count": 2,
   "id": "c411a99b-5473-4467-b164-5f3a7b9af1b6",
   "metadata": {},
   "outputs": [],
   "source": [
    "import numpy as np\n",
    "import pandas as pd\n",
    "import matplotlib.pyplot as plt\n",
    "import seaborn as sns\n",
    "import nltk\n",
    "import re\n",
    "from wordcloud import WordCloud\n",
    "from sklearn.model_selection import train_test_split\n",
    "from sklearn.metrics import accuracy_score, precision_score, recall_score, f1_score\n",
    "from sklearn.feature_extraction.text import TfidfVectorizer\n",
    "from sklearn.svm import SVC\n",
    "from sklearn.ensemble import RandomForestClassifier, GradientBoostingClassifier"
   ]
  },
  {
   "cell_type": "code",
   "execution_count": 83,
   "id": "165a07e4-f1f9-4b6e-b622-12651b7d2243",
   "metadata": {},
   "outputs": [
    {
     "data": {
      "text/html": [
       "<div>\n",
       "<style scoped>\n",
       "    .dataframe tbody tr th:only-of-type {\n",
       "        vertical-align: middle;\n",
       "    }\n",
       "\n",
       "    .dataframe tbody tr th {\n",
       "        vertical-align: top;\n",
       "    }\n",
       "\n",
       "    .dataframe thead th {\n",
       "        text-align: right;\n",
       "    }\n",
       "</style>\n",
       "<table border=\"1\" class=\"dataframe\">\n",
       "  <thead>\n",
       "    <tr style=\"text-align: right;\">\n",
       "      <th></th>\n",
       "      <th>sentimen</th>\n",
       "      <th>tweet</th>\n",
       "      <th>hashtags</th>\n",
       "      <th>mentions</th>\n",
       "      <th>tweet_length</th>\n",
       "      <th>sentimen_labels</th>\n",
       "    </tr>\n",
       "  </thead>\n",
       "  <tbody>\n",
       "    <tr>\n",
       "      <th>0</th>\n",
       "      <td>negatif</td>\n",
       "      <td>indonesia dihargai bangsa asing berita hoax bu...</td>\n",
       "      <td>[]</td>\n",
       "      <td>[@prabowo, @rockygerung]</td>\n",
       "      <td>195</td>\n",
       "      <td>0</td>\n",
       "    </tr>\n",
       "    <tr>\n",
       "      <th>1</th>\n",
       "      <td>netral</td>\n",
       "      <td>batuan langka tasbih jokowi hadiah habib luthf...</td>\n",
       "      <td>[]</td>\n",
       "      <td>[]</td>\n",
       "      <td>93</td>\n",
       "      <td>1</td>\n",
       "    </tr>\n",
       "    <tr>\n",
       "      <th>2</th>\n",
       "      <td>netral</td>\n",
       "      <td>era jokowi ekonomi indonesia</td>\n",
       "      <td>[#01IndonesiaMaju, #JokowiLagi, #JokowiMenangT...</td>\n",
       "      <td>[]</td>\n",
       "      <td>126</td>\n",
       "      <td>1</td>\n",
       "    </tr>\n",
       "    <tr>\n",
       "      <th>3</th>\n",
       "      <td>positif</td>\n",
       "      <td>sumatera selatan asian games berdampak pd ekon...</td>\n",
       "      <td>[]</td>\n",
       "      <td>[]</td>\n",
       "      <td>128</td>\n",
       "      <td>2</td>\n",
       "    </tr>\n",
       "    <tr>\n",
       "      <th>4</th>\n",
       "      <td>negatif</td>\n",
       "      <td>negara ngutang bngun infrastruktur dipake masy...</td>\n",
       "      <td>[]</td>\n",
       "      <td>[]</td>\n",
       "      <td>244</td>\n",
       "      <td>0</td>\n",
       "    </tr>\n",
       "    <tr>\n",
       "      <th>...</th>\n",
       "      <td>...</td>\n",
       "      <td>...</td>\n",
       "      <td>...</td>\n",
       "      <td>...</td>\n",
       "      <td>...</td>\n",
       "      <td>...</td>\n",
       "    </tr>\n",
       "    <tr>\n",
       "      <th>1810</th>\n",
       "      <td>netral</td>\n",
       "      <td>negarawan sejati sll bangga mengedepankan harg...</td>\n",
       "      <td>[#2019GantiPresiden]</td>\n",
       "      <td>[]</td>\n",
       "      <td>99</td>\n",
       "      <td>1</td>\n",
       "    </tr>\n",
       "    <tr>\n",
       "      <th>1811</th>\n",
       "      <td>netral</td>\n",
       "      <td>1 hrs ceramah damai indonesiaku 2 perekonomian...</td>\n",
       "      <td>[#PutihkanGBK]</td>\n",
       "      <td>[]</td>\n",
       "      <td>80</td>\n",
       "      <td>1</td>\n",
       "    </tr>\n",
       "    <tr>\n",
       "      <th>1812</th>\n",
       "      <td>netral</td>\n",
       "      <td>mari bangun bangsa dgn mendukung perekonomian ...</td>\n",
       "      <td>[]</td>\n",
       "      <td>[]</td>\n",
       "      <td>148</td>\n",
       "      <td>1</td>\n",
       "    </tr>\n",
       "    <tr>\n",
       "      <th>1813</th>\n",
       "      <td>netral</td>\n",
       "      <td>bantu majukan perekonomian bangsa jokowi yuk</td>\n",
       "      <td>[]</td>\n",
       "      <td>[]</td>\n",
       "      <td>121</td>\n",
       "      <td>1</td>\n",
       "    </tr>\n",
       "    <tr>\n",
       "      <th>1814</th>\n",
       "      <td>netral</td>\n",
       "      <td>mengubah pandang ekonomi orang terhubung indon...</td>\n",
       "      <td>[#MenyatuPutihJokowi]</td>\n",
       "      <td>[@jokowi]</td>\n",
       "      <td>146</td>\n",
       "      <td>1</td>\n",
       "    </tr>\n",
       "  </tbody>\n",
       "</table>\n",
       "<p>1815 rows × 6 columns</p>\n",
       "</div>"
      ],
      "text/plain": [
       "     sentimen                                              tweet  \\\n",
       "0     negatif  indonesia dihargai bangsa asing berita hoax bu...   \n",
       "1      netral  batuan langka tasbih jokowi hadiah habib luthf...   \n",
       "2      netral                       era jokowi ekonomi indonesia   \n",
       "3     positif  sumatera selatan asian games berdampak pd ekon...   \n",
       "4     negatif  negara ngutang bngun infrastruktur dipake masy...   \n",
       "...       ...                                                ...   \n",
       "1810   netral  negarawan sejati sll bangga mengedepankan harg...   \n",
       "1811   netral  1 hrs ceramah damai indonesiaku 2 perekonomian...   \n",
       "1812   netral  mari bangun bangsa dgn mendukung perekonomian ...   \n",
       "1813   netral       bantu majukan perekonomian bangsa jokowi yuk   \n",
       "1814   netral  mengubah pandang ekonomi orang terhubung indon...   \n",
       "\n",
       "                                               hashtags  \\\n",
       "0                                                    []   \n",
       "1                                                    []   \n",
       "2     [#01IndonesiaMaju, #JokowiLagi, #JokowiMenangT...   \n",
       "3                                                    []   \n",
       "4                                                    []   \n",
       "...                                                 ...   \n",
       "1810                               [#2019GantiPresiden]   \n",
       "1811                                     [#PutihkanGBK]   \n",
       "1812                                                 []   \n",
       "1813                                                 []   \n",
       "1814                              [#MenyatuPutihJokowi]   \n",
       "\n",
       "                      mentions  tweet_length  sentimen_labels  \n",
       "0     [@prabowo, @rockygerung]           195                0  \n",
       "1                           []            93                1  \n",
       "2                           []           126                1  \n",
       "3                           []           128                2  \n",
       "4                           []           244                0  \n",
       "...                        ...           ...              ...  \n",
       "1810                        []            99                1  \n",
       "1811                        []            80                1  \n",
       "1812                        []           148                1  \n",
       "1813                        []           121                1  \n",
       "1814                 [@jokowi]           146                1  \n",
       "\n",
       "[1815 rows x 6 columns]"
      ]
     },
     "execution_count": 83,
     "metadata": {},
     "output_type": "execute_result"
    }
   ],
   "source": [
    "# Label Encoding\n",
    "sentiment_mapping = {'negatif': 0, 'netral': 1, 'positif': 2}\n",
    "df['sentimen_labels'] = df['sentimen'].map(sentiment_mapping)\n",
    "df"
   ]
  },
  {
   "cell_type": "code",
   "execution_count": 85,
   "id": "72b0ee93-ae53-421b-a61c-462e1f45370c",
   "metadata": {},
   "outputs": [],
   "source": [
    "# Feature Extraction / Text Vectorizer\n",
    "# Using TF-IDF feature extraction\n",
    "from sklearn.feature_extraction.text import TfidfVectorizer\n",
    "\n",
    "tfidf_vectorizer = TfidfVectorizer()\n",
    "tfidf = tfidf_vectorizer.fit_transform(df['tweet'].values.astype('U'))"
   ]
  },
  {
   "cell_type": "code",
   "execution_count": 87,
   "id": "ddeb5b16-ce81-4dea-81eb-1eb8a869c5e3",
   "metadata": {},
   "outputs": [
    {
     "data": {
      "text/plain": [
       "(1815, 6462)"
      ]
     },
     "execution_count": 87,
     "metadata": {},
     "output_type": "execute_result"
    }
   ],
   "source": [
    "# Check TF-IDF array shape\n",
    "tfidf.toarray().shape"
   ]
  },
  {
   "cell_type": "code",
   "execution_count": 89,
   "id": "e2d2e958-b640-4439-950e-6c7b9f10f617",
   "metadata": {},
   "outputs": [],
   "source": [
    "# Splitting Data\n",
    "# Define X and Y\n",
    "X = tfidf.toarray()\n",
    "y = np.array(df['sentimen_labels'])"
   ]
  },
  {
   "cell_type": "code",
   "execution_count": 97,
   "id": "2fde922a-3e57-47df-86e9-2a068779a6a3",
   "metadata": {},
   "outputs": [],
   "source": [
    "# Split Data by 80% and 20%\n",
    "X_train, X_test, y_train, y_test = train_test_split(X, y, test_size=0.20, random_state=42)"
   ]
  },
  {
   "cell_type": "code",
   "execution_count": 98,
   "id": "d47b1ca6-78aa-4bce-b0f3-a0542b1ecc66",
   "metadata": {},
   "outputs": [
    {
     "data": {
      "text/plain": [
       "(1452, 6462)"
      ]
     },
     "execution_count": 98,
     "metadata": {},
     "output_type": "execute_result"
    }
   ],
   "source": [
    "X_train.shape"
   ]
  },
  {
   "cell_type": "code",
   "execution_count": 102,
   "id": "ebd1d52d-fff3-4ea3-8c60-80f7e03f3a54",
   "metadata": {},
   "outputs": [
    {
     "data": {
      "text/plain": [
       "(363, 6462)"
      ]
     },
     "execution_count": 102,
     "metadata": {},
     "output_type": "execute_result"
    }
   ],
   "source": [
    "X_test.shape"
   ]
  },
  {
   "cell_type": "markdown",
   "id": "7742c856-b31f-4df0-9c0f-11d3a2d9128c",
   "metadata": {},
   "source": [
    "<b>Modeling"
   ]
  },
  {
   "cell_type": "code",
   "execution_count": 106,
   "id": "ea78b340-7032-4f08-8fef-e11940b5c13e",
   "metadata": {},
   "outputs": [],
   "source": [
    "# Gradient Boosting\n",
    "from sklearn.ensemble import GradientBoostingClassifier\n",
    "\n",
    "model_gb = GradientBoostingClassifier()"
   ]
  },
  {
   "cell_type": "code",
   "execution_count": 108,
   "id": "5b2420cb-25cf-4c59-a473-69492ed3039c",
   "metadata": {},
   "outputs": [
    {
     "data": {
      "text/html": [
       "<style>#sk-container-id-1 {color: black;background-color: white;}#sk-container-id-1 pre{padding: 0;}#sk-container-id-1 div.sk-toggleable {background-color: white;}#sk-container-id-1 label.sk-toggleable__label {cursor: pointer;display: block;width: 100%;margin-bottom: 0;padding: 0.3em;box-sizing: border-box;text-align: center;}#sk-container-id-1 label.sk-toggleable__label-arrow:before {content: \"▸\";float: left;margin-right: 0.25em;color: #696969;}#sk-container-id-1 label.sk-toggleable__label-arrow:hover:before {color: black;}#sk-container-id-1 div.sk-estimator:hover label.sk-toggleable__label-arrow:before {color: black;}#sk-container-id-1 div.sk-toggleable__content {max-height: 0;max-width: 0;overflow: hidden;text-align: left;background-color: #f0f8ff;}#sk-container-id-1 div.sk-toggleable__content pre {margin: 0.2em;color: black;border-radius: 0.25em;background-color: #f0f8ff;}#sk-container-id-1 input.sk-toggleable__control:checked~div.sk-toggleable__content {max-height: 200px;max-width: 100%;overflow: auto;}#sk-container-id-1 input.sk-toggleable__control:checked~label.sk-toggleable__label-arrow:before {content: \"▾\";}#sk-container-id-1 div.sk-estimator input.sk-toggleable__control:checked~label.sk-toggleable__label {background-color: #d4ebff;}#sk-container-id-1 div.sk-label input.sk-toggleable__control:checked~label.sk-toggleable__label {background-color: #d4ebff;}#sk-container-id-1 input.sk-hidden--visually {border: 0;clip: rect(1px 1px 1px 1px);clip: rect(1px, 1px, 1px, 1px);height: 1px;margin: -1px;overflow: hidden;padding: 0;position: absolute;width: 1px;}#sk-container-id-1 div.sk-estimator {font-family: monospace;background-color: #f0f8ff;border: 1px dotted black;border-radius: 0.25em;box-sizing: border-box;margin-bottom: 0.5em;}#sk-container-id-1 div.sk-estimator:hover {background-color: #d4ebff;}#sk-container-id-1 div.sk-parallel-item::after {content: \"\";width: 100%;border-bottom: 1px solid gray;flex-grow: 1;}#sk-container-id-1 div.sk-label:hover label.sk-toggleable__label {background-color: #d4ebff;}#sk-container-id-1 div.sk-serial::before {content: \"\";position: absolute;border-left: 1px solid gray;box-sizing: border-box;top: 0;bottom: 0;left: 50%;z-index: 0;}#sk-container-id-1 div.sk-serial {display: flex;flex-direction: column;align-items: center;background-color: white;padding-right: 0.2em;padding-left: 0.2em;position: relative;}#sk-container-id-1 div.sk-item {position: relative;z-index: 1;}#sk-container-id-1 div.sk-parallel {display: flex;align-items: stretch;justify-content: center;background-color: white;position: relative;}#sk-container-id-1 div.sk-item::before, #sk-container-id-1 div.sk-parallel-item::before {content: \"\";position: absolute;border-left: 1px solid gray;box-sizing: border-box;top: 0;bottom: 0;left: 50%;z-index: -1;}#sk-container-id-1 div.sk-parallel-item {display: flex;flex-direction: column;z-index: 1;position: relative;background-color: white;}#sk-container-id-1 div.sk-parallel-item:first-child::after {align-self: flex-end;width: 50%;}#sk-container-id-1 div.sk-parallel-item:last-child::after {align-self: flex-start;width: 50%;}#sk-container-id-1 div.sk-parallel-item:only-child::after {width: 0;}#sk-container-id-1 div.sk-dashed-wrapped {border: 1px dashed gray;margin: 0 0.4em 0.5em 0.4em;box-sizing: border-box;padding-bottom: 0.4em;background-color: white;}#sk-container-id-1 div.sk-label label {font-family: monospace;font-weight: bold;display: inline-block;line-height: 1.2em;}#sk-container-id-1 div.sk-label-container {text-align: center;}#sk-container-id-1 div.sk-container {/* jupyter's `normalize.less` sets `[hidden] { display: none; }` but bootstrap.min.css set `[hidden] { display: none !important; }` so we also need the `!important` here to be able to override the default hidden behavior on the sphinx rendered scikit-learn.org. See: https://github.com/scikit-learn/scikit-learn/issues/21755 */display: inline-block !important;position: relative;}#sk-container-id-1 div.sk-text-repr-fallback {display: none;}</style><div id=\"sk-container-id-1\" class=\"sk-top-container\"><div class=\"sk-text-repr-fallback\"><pre>GradientBoostingClassifier()</pre><b>In a Jupyter environment, please rerun this cell to show the HTML representation or trust the notebook. <br />On GitHub, the HTML representation is unable to render, please try loading this page with nbviewer.org.</b></div><div class=\"sk-container\" hidden><div class=\"sk-item\"><div class=\"sk-estimator sk-toggleable\"><input class=\"sk-toggleable__control sk-hidden--visually\" id=\"sk-estimator-id-1\" type=\"checkbox\" checked><label for=\"sk-estimator-id-1\" class=\"sk-toggleable__label sk-toggleable__label-arrow\">GradientBoostingClassifier</label><div class=\"sk-toggleable__content\"><pre>GradientBoostingClassifier()</pre></div></div></div></div></div>"
      ],
      "text/plain": [
       "GradientBoostingClassifier()"
      ]
     },
     "execution_count": 108,
     "metadata": {},
     "output_type": "execute_result"
    }
   ],
   "source": [
    "model_gb.fit(X_train, y_train)"
   ]
  },
  {
   "cell_type": "code",
   "execution_count": 109,
   "id": "296e5ef2-6b09-4a63-9dd7-52edca4c0d96",
   "metadata": {},
   "outputs": [
    {
     "data": {
      "text/plain": [
       "0.8202479338842975"
      ]
     },
     "execution_count": 109,
     "metadata": {},
     "output_type": "execute_result"
    }
   ],
   "source": [
    "train_accuracy = accuracy_score(y_train, y_pred_train)\n",
    "train_accuracy"
   ]
  },
  {
   "cell_type": "markdown",
   "id": "ee976632-b248-4548-835f-753c5e751ac1",
   "metadata": {},
   "source": [
    "<b>Model Evaluation"
   ]
  },
  {
   "cell_type": "code",
   "execution_count": 114,
   "id": "9654d068-9dd1-4599-b6f1-42d684b3ecce",
   "metadata": {},
   "outputs": [
    {
     "name": "stdout",
     "output_type": "stream",
     "text": [
      "Gradient Boosting Evaluation:\n",
      "Accuracy Score: 0.5647382920110193\n",
      "Precision Score (per-class): [0.53731343 0.56034483 0.60176991]\n",
      "Recall Score (per-class): [0.62608696 0.55084746 0.52307692]\n",
      "F1 Score (per-class): [0.57831325 0.55555556 0.55967078]\n"
     ]
    }
   ],
   "source": [
    "# Gradient Boosting\n",
    "y_pred = model_gb.predict(X_test)\n",
    "\n",
    "print(\"Gradient Boosting Evaluation:\")\n",
    "print(\"Accuracy Score:\", accuracy_score(y_test, y_pred))\n",
    "print(\"Precision Score (per-class):\", precision_score(y_test, y_pred, average=None))\n",
    "print(\"Recall Score (per-class):\", recall_score(y_test, y_pred, average=None))\n",
    "print(\"F1 Score (per-class):\", f1_score(y_test, y_pred, average=None))"
   ]
  },
  {
   "cell_type": "code",
   "execution_count": null,
   "id": "c478824a-de1e-4ac8-9778-7b92dddbb1e4",
   "metadata": {},
   "outputs": [],
   "source": []
  }
 ],
 "metadata": {
  "kernelspec": {
   "display_name": "Python 3 (ipykernel)",
   "language": "python",
   "name": "python3"
  },
  "language_info": {
   "codemirror_mode": {
    "name": "ipython",
    "version": 3
   },
   "file_extension": ".py",
   "mimetype": "text/x-python",
   "name": "python",
   "nbconvert_exporter": "python",
   "pygments_lexer": "ipython3",
   "version": "3.11.7"
  }
 },
 "nbformat": 4,
 "nbformat_minor": 5
}
