{
  "cells": [
    {
      "cell_type": "markdown",
      "id": "405d0453-a5b8-4dca-bf33-d121566281dd",
      "metadata": {
        "id": "405d0453-a5b8-4dca-bf33-d121566281dd"
      },
      "source": [
        "## Label Encoding"
      ]
    },
    {
      "cell_type": "code",
      "execution_count": null,
      "id": "f2fc4400-4d48-4a5e-bd7c-2ce01f782b2a",
      "metadata": {
        "id": "f2fc4400-4d48-4a5e-bd7c-2ce01f782b2a",
        "outputId": "4d4c6660-9056-4e8c-9732-5681602d3c16"
      },
      "outputs": [
        {
          "data": {
            "text/html": [
              "<div>\n",
              "<style scoped>\n",
              "    .dataframe tbody tr th:only-of-type {\n",
              "        vertical-align: middle;\n",
              "    }\n",
              "\n",
              "    .dataframe tbody tr th {\n",
              "        vertical-align: top;\n",
              "    }\n",
              "\n",
              "    .dataframe thead th {\n",
              "        text-align: right;\n",
              "    }\n",
              "</style>\n",
              "<table border=\"1\" class=\"dataframe\">\n",
              "  <thead>\n",
              "    <tr style=\"text-align: right;\">\n",
              "      <th></th>\n",
              "      <th>sentimen</th>\n",
              "      <th>tweet</th>\n",
              "      <th>hashtags</th>\n",
              "      <th>mentions</th>\n",
              "      <th>tweet_length</th>\n",
              "      <th>sentimen_labels</th>\n",
              "    </tr>\n",
              "  </thead>\n",
              "  <tbody>\n",
              "    <tr>\n",
              "      <th>0</th>\n",
              "      <td>negatif</td>\n",
              "      <td>indonesia dihargai bangsa asing berita hoax bu...</td>\n",
              "      <td>[]</td>\n",
              "      <td>[@prabowo, @rockygerung]</td>\n",
              "      <td>195</td>\n",
              "      <td>0</td>\n",
              "    </tr>\n",
              "    <tr>\n",
              "      <th>1</th>\n",
              "      <td>netral</td>\n",
              "      <td>batuan langka tasbih jokowi hadiah habib luthf...</td>\n",
              "      <td>[]</td>\n",
              "      <td>[]</td>\n",
              "      <td>93</td>\n",
              "      <td>1</td>\n",
              "    </tr>\n",
              "    <tr>\n",
              "      <th>2</th>\n",
              "      <td>netral</td>\n",
              "      <td>era jokowi ekonomi indonesia</td>\n",
              "      <td>[#01IndonesiaMaju, #JokowiLagi, #JokowiMenangT...</td>\n",
              "      <td>[]</td>\n",
              "      <td>126</td>\n",
              "      <td>1</td>\n",
              "    </tr>\n",
              "    <tr>\n",
              "      <th>3</th>\n",
              "      <td>positif</td>\n",
              "      <td>sumatera selatan asian games berdampak pd ekon...</td>\n",
              "      <td>[]</td>\n",
              "      <td>[]</td>\n",
              "      <td>128</td>\n",
              "      <td>2</td>\n",
              "    </tr>\n",
              "    <tr>\n",
              "      <th>4</th>\n",
              "      <td>negatif</td>\n",
              "      <td>negara ngutang bngun infrastruktur dipake masy...</td>\n",
              "      <td>[]</td>\n",
              "      <td>[]</td>\n",
              "      <td>244</td>\n",
              "      <td>0</td>\n",
              "    </tr>\n",
              "    <tr>\n",
              "      <th>...</th>\n",
              "      <td>...</td>\n",
              "      <td>...</td>\n",
              "      <td>...</td>\n",
              "      <td>...</td>\n",
              "      <td>...</td>\n",
              "      <td>...</td>\n",
              "    </tr>\n",
              "    <tr>\n",
              "      <th>1810</th>\n",
              "      <td>netral</td>\n",
              "      <td>negarawan sejati sll bangga mengedepankan harg...</td>\n",
              "      <td>[#2019GantiPresiden]</td>\n",
              "      <td>[]</td>\n",
              "      <td>99</td>\n",
              "      <td>1</td>\n",
              "    </tr>\n",
              "    <tr>\n",
              "      <th>1811</th>\n",
              "      <td>netral</td>\n",
              "      <td>1 hrs ceramah damai indonesiaku 2 perekonomian...</td>\n",
              "      <td>[#PutihkanGBK]</td>\n",
              "      <td>[]</td>\n",
              "      <td>80</td>\n",
              "      <td>1</td>\n",
              "    </tr>\n",
              "    <tr>\n",
              "      <th>1812</th>\n",
              "      <td>netral</td>\n",
              "      <td>mari bangun bangsa dgn mendukung perekonomian ...</td>\n",
              "      <td>[]</td>\n",
              "      <td>[]</td>\n",
              "      <td>148</td>\n",
              "      <td>1</td>\n",
              "    </tr>\n",
              "    <tr>\n",
              "      <th>1813</th>\n",
              "      <td>netral</td>\n",
              "      <td>bantu majukan perekonomian bangsa jokowi yuk</td>\n",
              "      <td>[]</td>\n",
              "      <td>[]</td>\n",
              "      <td>121</td>\n",
              "      <td>1</td>\n",
              "    </tr>\n",
              "    <tr>\n",
              "      <th>1814</th>\n",
              "      <td>netral</td>\n",
              "      <td>mengubah pandang ekonomi orang terhubung indon...</td>\n",
              "      <td>[#MenyatuPutihJokowi]</td>\n",
              "      <td>[@jokowi]</td>\n",
              "      <td>146</td>\n",
              "      <td>1</td>\n",
              "    </tr>\n",
              "  </tbody>\n",
              "</table>\n",
              "<p>1815 rows × 6 columns</p>\n",
              "</div>"
            ],
            "text/plain": [
              "     sentimen                                              tweet  \\\n",
              "0     negatif  indonesia dihargai bangsa asing berita hoax bu...   \n",
              "1      netral  batuan langka tasbih jokowi hadiah habib luthf...   \n",
              "2      netral                       era jokowi ekonomi indonesia   \n",
              "3     positif  sumatera selatan asian games berdampak pd ekon...   \n",
              "4     negatif  negara ngutang bngun infrastruktur dipake masy...   \n",
              "...       ...                                                ...   \n",
              "1810   netral  negarawan sejati sll bangga mengedepankan harg...   \n",
              "1811   netral  1 hrs ceramah damai indonesiaku 2 perekonomian...   \n",
              "1812   netral  mari bangun bangsa dgn mendukung perekonomian ...   \n",
              "1813   netral       bantu majukan perekonomian bangsa jokowi yuk   \n",
              "1814   netral  mengubah pandang ekonomi orang terhubung indon...   \n",
              "\n",
              "                                               hashtags  \\\n",
              "0                                                    []   \n",
              "1                                                    []   \n",
              "2     [#01IndonesiaMaju, #JokowiLagi, #JokowiMenangT...   \n",
              "3                                                    []   \n",
              "4                                                    []   \n",
              "...                                                 ...   \n",
              "1810                               [#2019GantiPresiden]   \n",
              "1811                                     [#PutihkanGBK]   \n",
              "1812                                                 []   \n",
              "1813                                                 []   \n",
              "1814                              [#MenyatuPutihJokowi]   \n",
              "\n",
              "                      mentions  tweet_length  sentimen_labels  \n",
              "0     [@prabowo, @rockygerung]           195                0  \n",
              "1                           []            93                1  \n",
              "2                           []           126                1  \n",
              "3                           []           128                2  \n",
              "4                           []           244                0  \n",
              "...                        ...           ...              ...  \n",
              "1810                        []            99                1  \n",
              "1811                        []            80                1  \n",
              "1812                        []           148                1  \n",
              "1813                        []           121                1  \n",
              "1814                 [@jokowi]           146                1  \n",
              "\n",
              "[1815 rows x 6 columns]"
            ]
          },
          "execution_count": 44,
          "metadata": {},
          "output_type": "execute_result"
        }
      ],
      "source": [
        "sentiment_mapping = {'negatif': 0, 'netral': 1, 'positif': 2}\n",
        "\n",
        "df['sentimen_labels'] = df['sentimen'].map(sentiment_mapping)\n",
        "df"
      ]
    },
    {
      "cell_type": "markdown",
      "id": "e6b932d8-d649-4562-91cc-0c8b1636ef0e",
      "metadata": {
        "id": "e6b932d8-d649-4562-91cc-0c8b1636ef0e"
      },
      "source": [
        "## Feature Extraction / Text Vectorizer"
      ]
    },
    {
      "cell_type": "markdown",
      "id": "b3817c24-4f9f-4521-badd-a18da5bc06bf",
      "metadata": {
        "id": "b3817c24-4f9f-4521-badd-a18da5bc06bf"
      },
      "source": [
        "<b>Using Bag-of-Words (BoW) 1-grams [CountVectorizer]</b>"
      ]
    },
    {
      "cell_type": "code",
      "execution_count": null,
      "id": "db1e5f39-230c-43eb-a6a8-376bc4de5c9e",
      "metadata": {
        "id": "db1e5f39-230c-43eb-a6a8-376bc4de5c9e",
        "tags": []
      },
      "outputs": [],
      "source": [
        "from sklearn.feature_extraction.text import CountVectorizer\n",
        "\n",
        "bow_vectorizer = CountVectorizer(analyzer='word', ngram_range=(1, 1))\n",
        "BoW = bow_vectorizer.fit_transform(df['tweet'].values.astype('U'))"
      ]
    },
    {
      "cell_type": "markdown",
      "id": "97fa8c04-7a1a-42fb-96c6-958c7c9ec0c3",
      "metadata": {
        "id": "97fa8c04-7a1a-42fb-96c6-958c7c9ec0c3"
      },
      "source": [
        "<b>Get a few unique Tokens from CountVectorizer</b>"
      ]
    },
    {
      "cell_type": "code",
      "execution_count": null,
      "id": "908ff886-e087-4ff3-944e-b76fa063d084",
      "metadata": {
        "id": "908ff886-e087-4ff3-944e-b76fa063d084",
        "outputId": "94a4c507-a883-4c76-b338-e053610b6a11",
        "tags": []
      },
      "outputs": [
        {
          "data": {
            "text/plain": [
              "array(['akidah', 'akma', 'akn', 'aksa', 'akses', 'aktif', 'aktifiktas',\n",
              "       'akting', 'akui', 'akuin', 'akuisisi', 'akum', 'akumulasi', 'akun',\n",
              "       'akunnya', 'akuntabilitas', 'akupun', 'akutuh', 'al', 'ala2',\n",
              "       'aladin', 'alam', 'alamat', 'alami', 'alamin', 'alangkah', 'alap',\n",
              "       'alasan', 'alasannya', 'alat', 'alesan', 'alhamdullilah',\n",
              "       'alhmdllh', 'aliansi', 'alias', 'alih', 'alihkan', 'aliran',\n",
              "       'alirkan', 'all', 'allah', 'allahu', 'allohuakbar', 'alm',\n",
              "       'alokasikan', 'alquran', 'alternatif', 'alurnya', 'ama', 'amal',\n",
              "       'aman', 'amanah', 'amanat', 'amang', 'amatiran', 'ambil',\n",
              "       'ambilin', 'ambisi', 'ambisinya', 'ambruk', 'amburadul', 'amda',\n",
              "       'amerika', 'amien', 'amiiiiin', 'amiin', 'amin', 'amit', 'amnesti',\n",
              "       'amnesty', 'ampe', 'ampun', 'an', 'ana', 'anak', 'anak2',\n",
              "       'anaknya', 'analis', 'analisanya', 'analisis', 'and', 'andalan',\n",
              "       'andi', 'andil', 'andre', 'android', 'androidnya', 'ane', 'aneh',\n",
              "       'anehhh', 'anehnya', 'anfaunnas', 'angan', 'anggap', 'anggaran',\n",
              "       'anggota', 'angin', 'angka', 'angka2', 'angkat'], dtype=object)"
            ]
          },
          "execution_count": 46,
          "metadata": {},
          "output_type": "execute_result"
        }
      ],
      "source": [
        "bow_vectorizer.get_feature_names_out()[200:300]"
      ]
    },
    {
      "cell_type": "markdown",
      "id": "4df0a51a-90cd-44e6-aabe-f79ab0c9f2c8",
      "metadata": {
        "id": "4df0a51a-90cd-44e6-aabe-f79ab0c9f2c8"
      },
      "source": [
        "<b>Check BoW array shape</b>"
      ]
    },
    {
      "cell_type": "code",
      "execution_count": null,
      "id": "dea790a1-eef2-4910-ba77-098ec506c1ca",
      "metadata": {
        "id": "dea790a1-eef2-4910-ba77-098ec506c1ca",
        "outputId": "d3ca68f7-a860-44b1-ccd9-2ef706157155",
        "tags": []
      },
      "outputs": [
        {
          "data": {
            "text/plain": [
              "(1815, 6462)"
            ]
          },
          "execution_count": 47,
          "metadata": {},
          "output_type": "execute_result"
        }
      ],
      "source": [
        "BoW.toarray().shape"
      ]
    },
    {
      "cell_type": "markdown",
      "id": "de672d67-cb63-4826-a67c-ec1f223c00d0",
      "metadata": {
        "id": "de672d67-cb63-4826-a67c-ec1f223c00d0"
      },
      "source": [
        "<b>Using TF-IDF feature extraction</b>"
      ]
    },
    {
      "cell_type": "code",
      "execution_count": null,
      "id": "add52cc9-6aa8-45a1-8af3-fd70fe77db8d",
      "metadata": {
        "id": "add52cc9-6aa8-45a1-8af3-fd70fe77db8d",
        "outputId": "fb98cbde-541f-4a6d-a84e-e30581617018",
        "tags": []
      },
      "outputs": [
        {
          "name": "stdout",
          "output_type": "stream",
          "text": [
            "  (0, 4704)\t0.4603507904643786\n",
            "  (0, 913)\t0.4603507904643786\n",
            "  (0, 2118)\t0.3378002068391623\n",
            "  (0, 648)\t0.35988253038094153\n",
            "  (0, 369)\t0.35988253038094153\n",
            "  (0, 464)\t0.25892921099071964\n",
            "  (0, 1300)\t0.32767231968274224\n",
            "  (0, 2213)\t0.16911819227906244\n",
            "  (1, 3835)\t0.36109428597337984\n",
            "  (1, 5397)\t0.34235064839105983\n",
            "  (1, 3210)\t0.36109428597337984\n",
            "  (1, 1988)\t0.36109428597337984\n",
            "  (1, 1998)\t0.34235064839105983\n",
            "  (1, 2445)\t0.09812135717764796\n",
            "  (1, 5855)\t0.34235064839105983\n",
            "  (1, 3087)\t0.34235064839105983\n",
            "  (1, 504)\t0.36109428597337984\n",
            "  (2, 1662)\t0.2941124459565659\n",
            "  (2, 1707)\t0.7584230340282168\n",
            "  (2, 2445)\t0.3458800606605086\n",
            "  (2, 2213)\t0.4676102588976887\n",
            "  (3, 2063)\t0.2327983651893471\n",
            "  (3, 3248)\t0.207088684600593\n",
            "  (3, 6134)\t0.2965140259093501\n",
            "  (3, 26)\t0.31848182583972473\n",
            "  :\t:\n",
            "  (1811, 4764)\t0.2646896981048109\n",
            "  (1812, 3331)\t0.4209368072097417\n",
            "  (1812, 3600)\t0.3963950604438956\n",
            "  (1812, 467)\t0.37106813471162764\n",
            "  (1812, 407)\t0.37106813471162764\n",
            "  (1812, 2767)\t0.25761429154141513\n",
            "  (1812, 1181)\t0.29001681242590094\n",
            "  (1812, 4764)\t0.2859707589728617\n",
            "  (1812, 4097)\t0.22803500788779468\n",
            "  (1812, 2445)\t0.14165950801406646\n",
            "  (1812, 464)\t0.2932209209423195\n",
            "  (1813, 3250)\t0.5591864809770258\n",
            "  (1813, 475)\t0.5095658937939799\n",
            "  (1813, 6447)\t0.4599453066109339\n",
            "  (1813, 4764)\t0.3067435875222568\n",
            "  (1813, 2445)\t0.15194961139015012\n",
            "  (1813, 464)\t0.3145203990417868\n",
            "  (1814, 5957)\t0.4713645441092058\n",
            "  (1814, 1652)\t0.4295370209990244\n",
            "  (1814, 5037)\t0.4160715661703066\n",
            "  (1814, 4448)\t0.3957673643385413\n",
            "  (1814, 4372)\t0.255119386633473\n",
            "  (1814, 3713)\t0.3957673643385413\n",
            "  (1814, 1662)\t0.10891500577565809\n",
            "  (1814, 2213)\t0.17316429395891658\n"
          ]
        }
      ],
      "source": [
        "from sklearn.feature_extraction.text import TfidfVectorizer\n",
        "\n",
        "tfidf_vectorizer = TfidfVectorizer()\n",
        "tfidf = tfidf_vectorizer.fit_transform(df['tweet'].values.astype('U'))\n",
        "print(tfidf)"
      ]
    },
    {
      "cell_type": "markdown",
      "id": "cb387e0e-6334-4b72-b2cc-39929d44a77c",
      "metadata": {
        "id": "cb387e0e-6334-4b72-b2cc-39929d44a77c"
      },
      "source": [
        "<b>Check TF-IDF array shape</b>"
      ]
    },
    {
      "cell_type": "code",
      "execution_count": null,
      "id": "450367df-597f-431f-b583-ca02de174b98",
      "metadata": {
        "id": "450367df-597f-431f-b583-ca02de174b98",
        "outputId": "60338050-6452-4424-8d7d-dd77ac3de625",
        "tags": []
      },
      "outputs": [
        {
          "data": {
            "text/plain": [
              "(1815, 6462)"
            ]
          },
          "execution_count": 49,
          "metadata": {},
          "output_type": "execute_result"
        }
      ],
      "source": [
        "tfidf.toarray().shape"
      ]
    },
    {
      "cell_type": "markdown",
      "id": "46e4217a-167a-4967-82a9-8d5a5bb12f81",
      "metadata": {
        "id": "46e4217a-167a-4967-82a9-8d5a5bb12f81"
      },
      "source": [
        "## Splitting Data"
      ]
    },
    {
      "cell_type": "markdown",
      "id": "96863c22-bb0e-48e1-9b9e-d575112bdd5a",
      "metadata": {
        "id": "96863c22-bb0e-48e1-9b9e-d575112bdd5a"
      },
      "source": [
        "<b>Define X and Y</b>"
      ]
    },
    {
      "cell_type": "code",
      "execution_count": null,
      "id": "d1cd90aa-bd36-45df-80ee-d8b6ae1b949d",
      "metadata": {
        "id": "d1cd90aa-bd36-45df-80ee-d8b6ae1b949d",
        "tags": []
      },
      "outputs": [],
      "source": [
        "X = tfidf.toarray()\n",
        "y = np.array(df['sentimen_labels'])"
      ]
    },
    {
      "cell_type": "markdown",
      "id": "2780a80f-6fa6-4a63-8205-c3c7b16850b0",
      "metadata": {
        "id": "2780a80f-6fa6-4a63-8205-c3c7b16850b0"
      },
      "source": [
        "<b>Split Data by 80% and 20%</b>"
      ]
    },
    {
      "cell_type": "code",
      "execution_count": null,
      "id": "85cac5d0-585e-4506-8cde-95dd0d9b4036",
      "metadata": {
        "id": "85cac5d0-585e-4506-8cde-95dd0d9b4036",
        "tags": []
      },
      "outputs": [],
      "source": [
        "X_train, X_test, y_train, y_test = train_test_split(X, y, test_size=0.20, random_state=42)"
      ]
    },
    {
      "cell_type": "code",
      "execution_count": null,
      "id": "c45b9e32-0fe6-4907-bfef-ebea87a68583",
      "metadata": {
        "id": "c45b9e32-0fe6-4907-bfef-ebea87a68583",
        "outputId": "d437f4e6-1380-478a-aa84-e71bdf91744f",
        "tags": []
      },
      "outputs": [
        {
          "data": {
            "text/plain": [
              "(1452, 6462)"
            ]
          },
          "execution_count": 52,
          "metadata": {},
          "output_type": "execute_result"
        }
      ],
      "source": [
        "X_train.shape"
      ]
    },
    {
      "cell_type": "code",
      "execution_count": null,
      "id": "515e943e-b27d-405a-85f8-0f5333e22e7a",
      "metadata": {
        "id": "515e943e-b27d-405a-85f8-0f5333e22e7a",
        "outputId": "22b069c0-1146-44aa-a879-73399993e73a",
        "tags": []
      },
      "outputs": [
        {
          "data": {
            "text/plain": [
              "(363, 6462)"
            ]
          },
          "execution_count": 53,
          "metadata": {},
          "output_type": "execute_result"
        }
      ],
      "source": [
        "X_test.shape"
      ]
    },
    {
      "cell_type": "markdown",
      "id": "05d33254-c9d2-474f-8333-c3f2c914233a",
      "metadata": {
        "id": "05d33254-c9d2-474f-8333-c3f2c914233a"
      },
      "source": [
        "## Modeling"
      ]
    },
    {
      "cell_type": "markdown",
      "id": "e5cc9e54-216f-4944-a13e-4d121975fdf3",
      "metadata": {
        "id": "e5cc9e54-216f-4944-a13e-4d121975fdf3"
      },
      "source": [
        "<b>SVM Linear kernel</b>"
      ]
    },
    {
      "cell_type": "code",
      "execution_count": null,
      "id": "bad79125-cfa3-4691-8add-30fba0f1c11b",
      "metadata": {
        "id": "bad79125-cfa3-4691-8add-30fba0f1c11b"
      },
      "outputs": [],
      "source": [
        "from sklearn.svm import SVC\n",
        "\n",
        "model_svm = SVC(kernel='linear')"
      ]
    },
    {
      "cell_type": "code",
      "execution_count": null,
      "id": "c03a9d20-8c3a-401f-aa19-ac78a4da9940",
      "metadata": {
        "id": "c03a9d20-8c3a-401f-aa19-ac78a4da9940",
        "outputId": "12834008-64f6-4e74-f9d8-8d67c4c1190e",
        "tags": []
      },
      "outputs": [
        {
          "data": {
            "text/html": [
              "<style>#sk-container-id-3 {color: black;background-color: white;}#sk-container-id-3 pre{padding: 0;}#sk-container-id-3 div.sk-toggleable {background-color: white;}#sk-container-id-3 label.sk-toggleable__label {cursor: pointer;display: block;width: 100%;margin-bottom: 0;padding: 0.3em;box-sizing: border-box;text-align: center;}#sk-container-id-3 label.sk-toggleable__label-arrow:before {content: \"▸\";float: left;margin-right: 0.25em;color: #696969;}#sk-container-id-3 label.sk-toggleable__label-arrow:hover:before {color: black;}#sk-container-id-3 div.sk-estimator:hover label.sk-toggleable__label-arrow:before {color: black;}#sk-container-id-3 div.sk-toggleable__content {max-height: 0;max-width: 0;overflow: hidden;text-align: left;background-color: #f0f8ff;}#sk-container-id-3 div.sk-toggleable__content pre {margin: 0.2em;color: black;border-radius: 0.25em;background-color: #f0f8ff;}#sk-container-id-3 input.sk-toggleable__control:checked~div.sk-toggleable__content {max-height: 200px;max-width: 100%;overflow: auto;}#sk-container-id-3 input.sk-toggleable__control:checked~label.sk-toggleable__label-arrow:before {content: \"▾\";}#sk-container-id-3 div.sk-estimator input.sk-toggleable__control:checked~label.sk-toggleable__label {background-color: #d4ebff;}#sk-container-id-3 div.sk-label input.sk-toggleable__control:checked~label.sk-toggleable__label {background-color: #d4ebff;}#sk-container-id-3 input.sk-hidden--visually {border: 0;clip: rect(1px 1px 1px 1px);clip: rect(1px, 1px, 1px, 1px);height: 1px;margin: -1px;overflow: hidden;padding: 0;position: absolute;width: 1px;}#sk-container-id-3 div.sk-estimator {font-family: monospace;background-color: #f0f8ff;border: 1px dotted black;border-radius: 0.25em;box-sizing: border-box;margin-bottom: 0.5em;}#sk-container-id-3 div.sk-estimator:hover {background-color: #d4ebff;}#sk-container-id-3 div.sk-parallel-item::after {content: \"\";width: 100%;border-bottom: 1px solid gray;flex-grow: 1;}#sk-container-id-3 div.sk-label:hover label.sk-toggleable__label {background-color: #d4ebff;}#sk-container-id-3 div.sk-serial::before {content: \"\";position: absolute;border-left: 1px solid gray;box-sizing: border-box;top: 0;bottom: 0;left: 50%;z-index: 0;}#sk-container-id-3 div.sk-serial {display: flex;flex-direction: column;align-items: center;background-color: white;padding-right: 0.2em;padding-left: 0.2em;position: relative;}#sk-container-id-3 div.sk-item {position: relative;z-index: 1;}#sk-container-id-3 div.sk-parallel {display: flex;align-items: stretch;justify-content: center;background-color: white;position: relative;}#sk-container-id-3 div.sk-item::before, #sk-container-id-3 div.sk-parallel-item::before {content: \"\";position: absolute;border-left: 1px solid gray;box-sizing: border-box;top: 0;bottom: 0;left: 50%;z-index: -1;}#sk-container-id-3 div.sk-parallel-item {display: flex;flex-direction: column;z-index: 1;position: relative;background-color: white;}#sk-container-id-3 div.sk-parallel-item:first-child::after {align-self: flex-end;width: 50%;}#sk-container-id-3 div.sk-parallel-item:last-child::after {align-self: flex-start;width: 50%;}#sk-container-id-3 div.sk-parallel-item:only-child::after {width: 0;}#sk-container-id-3 div.sk-dashed-wrapped {border: 1px dashed gray;margin: 0 0.4em 0.5em 0.4em;box-sizing: border-box;padding-bottom: 0.4em;background-color: white;}#sk-container-id-3 div.sk-label label {font-family: monospace;font-weight: bold;display: inline-block;line-height: 1.2em;}#sk-container-id-3 div.sk-label-container {text-align: center;}#sk-container-id-3 div.sk-container {/* jupyter's `normalize.less` sets `[hidden] { display: none; }` but bootstrap.min.css set `[hidden] { display: none !important; }` so we also need the `!important` here to be able to override the default hidden behavior on the sphinx rendered scikit-learn.org. See: https://github.com/scikit-learn/scikit-learn/issues/21755 */display: inline-block !important;position: relative;}#sk-container-id-3 div.sk-text-repr-fallback {display: none;}</style><div id=\"sk-container-id-3\" class=\"sk-top-container\"><div class=\"sk-text-repr-fallback\"><pre>SVC(kernel=&#x27;linear&#x27;)</pre><b>In a Jupyter environment, please rerun this cell to show the HTML representation or trust the notebook. <br />On GitHub, the HTML representation is unable to render, please try loading this page with nbviewer.org.</b></div><div class=\"sk-container\" hidden><div class=\"sk-item\"><div class=\"sk-estimator sk-toggleable\"><input class=\"sk-toggleable__control sk-hidden--visually\" id=\"sk-estimator-id-3\" type=\"checkbox\" checked><label for=\"sk-estimator-id-3\" class=\"sk-toggleable__label sk-toggleable__label-arrow\">SVC</label><div class=\"sk-toggleable__content\"><pre>SVC(kernel=&#x27;linear&#x27;)</pre></div></div></div></div></div>"
            ],
            "text/plain": [
              "SVC(kernel='linear')"
            ]
          },
          "execution_count": 61,
          "metadata": {},
          "output_type": "execute_result"
        }
      ],
      "source": [
        "model_svm.fit(X_train, y_train)"
      ]
    },
    {
      "cell_type": "code",
      "execution_count": null,
      "id": "a9a953ca-b4a3-46b7-a0ee-f13a862ec052",
      "metadata": {
        "id": "a9a953ca-b4a3-46b7-a0ee-f13a862ec052",
        "outputId": "51b86563-e065-44f7-9958-7746c36986e8",
        "tags": []
      },
      "outputs": [
        {
          "data": {
            "text/plain": [
              "0.9359504132231405"
            ]
          },
          "execution_count": 62,
          "metadata": {},
          "output_type": "execute_result"
        }
      ],
      "source": [
        "y_pred = model_svm.predict(X_train)\n",
        "\n",
        "train_accuracy = accuracy_score(y_train, y_pred)\n",
        "train_accuracy"
      ]
    },
    {
      "cell_type": "markdown",
      "id": "0c3fe57a-1eac-42f8-922c-78035aa3facf",
      "metadata": {
        "id": "0c3fe57a-1eac-42f8-922c-78035aa3facf"
      },
      "source": [
        "<b>Random Forest</b>"
      ]
    },
    {
      "cell_type": "code",
      "execution_count": null,
      "id": "4f7896b2-e93e-47b1-99bc-807efb226e91",
      "metadata": {
        "id": "4f7896b2-e93e-47b1-99bc-807efb226e91",
        "tags": []
      },
      "outputs": [],
      "source": [
        "from sklearn.ensemble import RandomForestClassifier\n",
        "\n",
        "model_rf = RandomForestClassifier()"
      ]
    },
    {
      "cell_type": "code",
      "execution_count": null,
      "id": "25c5bd03-b34c-40e5-81bd-0f3e110a9b01",
      "metadata": {
        "id": "25c5bd03-b34c-40e5-81bd-0f3e110a9b01",
        "outputId": "6f8059ba-5f87-4e6d-e220-80a9a27a8ccc",
        "tags": []
      },
      "outputs": [
        {
          "data": {
            "text/html": [
              "<style>#sk-container-id-4 {color: black;background-color: white;}#sk-container-id-4 pre{padding: 0;}#sk-container-id-4 div.sk-toggleable {background-color: white;}#sk-container-id-4 label.sk-toggleable__label {cursor: pointer;display: block;width: 100%;margin-bottom: 0;padding: 0.3em;box-sizing: border-box;text-align: center;}#sk-container-id-4 label.sk-toggleable__label-arrow:before {content: \"▸\";float: left;margin-right: 0.25em;color: #696969;}#sk-container-id-4 label.sk-toggleable__label-arrow:hover:before {color: black;}#sk-container-id-4 div.sk-estimator:hover label.sk-toggleable__label-arrow:before {color: black;}#sk-container-id-4 div.sk-toggleable__content {max-height: 0;max-width: 0;overflow: hidden;text-align: left;background-color: #f0f8ff;}#sk-container-id-4 div.sk-toggleable__content pre {margin: 0.2em;color: black;border-radius: 0.25em;background-color: #f0f8ff;}#sk-container-id-4 input.sk-toggleable__control:checked~div.sk-toggleable__content {max-height: 200px;max-width: 100%;overflow: auto;}#sk-container-id-4 input.sk-toggleable__control:checked~label.sk-toggleable__label-arrow:before {content: \"▾\";}#sk-container-id-4 div.sk-estimator input.sk-toggleable__control:checked~label.sk-toggleable__label {background-color: #d4ebff;}#sk-container-id-4 div.sk-label input.sk-toggleable__control:checked~label.sk-toggleable__label {background-color: #d4ebff;}#sk-container-id-4 input.sk-hidden--visually {border: 0;clip: rect(1px 1px 1px 1px);clip: rect(1px, 1px, 1px, 1px);height: 1px;margin: -1px;overflow: hidden;padding: 0;position: absolute;width: 1px;}#sk-container-id-4 div.sk-estimator {font-family: monospace;background-color: #f0f8ff;border: 1px dotted black;border-radius: 0.25em;box-sizing: border-box;margin-bottom: 0.5em;}#sk-container-id-4 div.sk-estimator:hover {background-color: #d4ebff;}#sk-container-id-4 div.sk-parallel-item::after {content: \"\";width: 100%;border-bottom: 1px solid gray;flex-grow: 1;}#sk-container-id-4 div.sk-label:hover label.sk-toggleable__label {background-color: #d4ebff;}#sk-container-id-4 div.sk-serial::before {content: \"\";position: absolute;border-left: 1px solid gray;box-sizing: border-box;top: 0;bottom: 0;left: 50%;z-index: 0;}#sk-container-id-4 div.sk-serial {display: flex;flex-direction: column;align-items: center;background-color: white;padding-right: 0.2em;padding-left: 0.2em;position: relative;}#sk-container-id-4 div.sk-item {position: relative;z-index: 1;}#sk-container-id-4 div.sk-parallel {display: flex;align-items: stretch;justify-content: center;background-color: white;position: relative;}#sk-container-id-4 div.sk-item::before, #sk-container-id-4 div.sk-parallel-item::before {content: \"\";position: absolute;border-left: 1px solid gray;box-sizing: border-box;top: 0;bottom: 0;left: 50%;z-index: -1;}#sk-container-id-4 div.sk-parallel-item {display: flex;flex-direction: column;z-index: 1;position: relative;background-color: white;}#sk-container-id-4 div.sk-parallel-item:first-child::after {align-self: flex-end;width: 50%;}#sk-container-id-4 div.sk-parallel-item:last-child::after {align-self: flex-start;width: 50%;}#sk-container-id-4 div.sk-parallel-item:only-child::after {width: 0;}#sk-container-id-4 div.sk-dashed-wrapped {border: 1px dashed gray;margin: 0 0.4em 0.5em 0.4em;box-sizing: border-box;padding-bottom: 0.4em;background-color: white;}#sk-container-id-4 div.sk-label label {font-family: monospace;font-weight: bold;display: inline-block;line-height: 1.2em;}#sk-container-id-4 div.sk-label-container {text-align: center;}#sk-container-id-4 div.sk-container {/* jupyter's `normalize.less` sets `[hidden] { display: none; }` but bootstrap.min.css set `[hidden] { display: none !important; }` so we also need the `!important` here to be able to override the default hidden behavior on the sphinx rendered scikit-learn.org. See: https://github.com/scikit-learn/scikit-learn/issues/21755 */display: inline-block !important;position: relative;}#sk-container-id-4 div.sk-text-repr-fallback {display: none;}</style><div id=\"sk-container-id-4\" class=\"sk-top-container\"><div class=\"sk-text-repr-fallback\"><pre>RandomForestClassifier()</pre><b>In a Jupyter environment, please rerun this cell to show the HTML representation or trust the notebook. <br />On GitHub, the HTML representation is unable to render, please try loading this page with nbviewer.org.</b></div><div class=\"sk-container\" hidden><div class=\"sk-item\"><div class=\"sk-estimator sk-toggleable\"><input class=\"sk-toggleable__control sk-hidden--visually\" id=\"sk-estimator-id-4\" type=\"checkbox\" checked><label for=\"sk-estimator-id-4\" class=\"sk-toggleable__label sk-toggleable__label-arrow\">RandomForestClassifier</label><div class=\"sk-toggleable__content\"><pre>RandomForestClassifier()</pre></div></div></div></div></div>"
            ],
            "text/plain": [
              "RandomForestClassifier()"
            ]
          },
          "execution_count": 64,
          "metadata": {},
          "output_type": "execute_result"
        }
      ],
      "source": [
        "model_rf.fit(X_train, y_train)"
      ]
    },
    {
      "cell_type": "code",
      "execution_count": null,
      "id": "3be65f93-9517-45ef-b858-7f6e82099656",
      "metadata": {
        "id": "3be65f93-9517-45ef-b858-7f6e82099656",
        "outputId": "2ade121b-fcb0-4353-e20a-2dcb95d98555",
        "tags": []
      },
      "outputs": [
        {
          "data": {
            "text/plain": [
              "0.9986225895316805"
            ]
          },
          "execution_count": 65,
          "metadata": {},
          "output_type": "execute_result"
        }
      ],
      "source": [
        "y_pred = model_rf.predict(X_train)\n",
        "\n",
        "train_accuracy = accuracy_score(y_train, y_pred)\n",
        "train_accuracy"
      ]
    },
    {
      "cell_type": "markdown",
      "id": "084d1f70-f557-40d3-94ac-a186efe45923",
      "metadata": {
        "id": "084d1f70-f557-40d3-94ac-a186efe45923"
      },
      "source": [
        "## Model Evaluation"
      ]
    },
    {
      "cell_type": "markdown",
      "id": "26095281-cff7-4474-a7af-3a8d383f8902",
      "metadata": {
        "id": "26095281-cff7-4474-a7af-3a8d383f8902"
      },
      "source": [
        "<b>SVM Linear kernel</b>"
      ]
    },
    {
      "cell_type": "code",
      "execution_count": null,
      "id": "c54c2c05-5fe4-46ae-bd6b-cf472ac26eeb",
      "metadata": {
        "id": "c54c2c05-5fe4-46ae-bd6b-cf472ac26eeb",
        "outputId": "807bc886-e007-46ca-b6f9-7debe67ca27e",
        "tags": []
      },
      "outputs": [
        {
          "name": "stdout",
          "output_type": "stream",
          "text": [
            "Accuracy Score: 0.6088154269972452\n",
            "Precision Score (per-class): [0.55479452 0.63063063 0.66037736]\n",
            "Recall Score (per-class): [0.70434783 0.59322034 0.53846154]\n",
            "F1 Score (per-class): [0.62068966 0.61135371 0.59322034]\n"
          ]
        }
      ],
      "source": [
        "y_pred = model_svm.predict(X_test)\n",
        "\n",
        "print(\"Accuracy Score:\", accuracy_score(y_test, y_pred))\n",
        "print(\"Precision Score (per-class):\", precision_score(y_test, y_pred, average=None))\n",
        "print(\"Recall Score (per-class):\", recall_score(y_test, y_pred, average=None))\n",
        "print(\"F1 Score (per-class):\", f1_score(y_test, y_pred, average=None))"
      ]
    },
    {
      "cell_type": "markdown",
      "id": "0a47e586-59c5-49bd-b500-dba5be89b14e",
      "metadata": {
        "id": "0a47e586-59c5-49bd-b500-dba5be89b14e"
      },
      "source": [
        "<b>Random Forest</b>"
      ]
    },
    {
      "cell_type": "code",
      "execution_count": null,
      "id": "5f953e2f-a28a-4a60-aa59-913daa67d862",
      "metadata": {
        "id": "5f953e2f-a28a-4a60-aa59-913daa67d862",
        "outputId": "afc8e5da-3579-4a60-baab-21e45caf842e",
        "tags": []
      },
      "outputs": [
        {
          "name": "stdout",
          "output_type": "stream",
          "text": [
            "Accuracy Score: 0.5840220385674931\n",
            "Precision Score (per-class): [0.57251908 0.53571429 0.67391304]\n",
            "Recall Score (per-class): [0.65217391 0.63559322 0.47692308]\n",
            "F1 Score (per-class): [0.6097561  0.58139535 0.55855856]\n"
          ]
        }
      ],
      "source": [
        "y_pred = model_rf.predict(X_test)\n",
        "\n",
        "print(\"Accuracy Score:\", accuracy_score(y_test, y_pred))\n",
        "print(\"Precision Score (per-class):\", precision_score(y_test, y_pred, average=None))\n",
        "print(\"Recall Score (per-class):\", recall_score(y_test, y_pred, average=None))\n",
        "print(\"F1 Score (per-class):\", f1_score(y_test, y_pred, average=None))"
      ]
    },
    {
      "cell_type": "code",
      "execution_count": null,
      "id": "7f175507-a0da-4c39-b334-906609bd1015",
      "metadata": {
        "id": "7f175507-a0da-4c39-b334-906609bd1015"
      },
      "outputs": [],
      "source": []
    }
  ],
  "metadata": {
    "colab": {
      "provenance": []
    },
    "kernelspec": {
      "display_name": "Python 3 (ipykernel)",
      "language": "python",
      "name": "python3"
    },
    "language_info": {
      "codemirror_mode": {
        "name": "ipython",
        "version": 3
      },
      "file_extension": ".py",
      "mimetype": "text/x-python",
      "name": "python",
      "nbconvert_exporter": "python",
      "pygments_lexer": "ipython3",
      "version": "3.10.11"
    }
  },
  "nbformat": 4,
  "nbformat_minor": 5
}
